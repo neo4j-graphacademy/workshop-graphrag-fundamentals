{
 "cells": [
  {
   "cell_type": "markdown",
   "id": "caa5eb02",
   "metadata": {},
   "source": [
    "# Vector & Relationships\n",
    "\n",
    "## Installation\n",
    "\n",
    "This notebook requires the following dependencies:"
   ]
  },
  {
   "cell_type": "code",
   "execution_count": null,
   "id": "f256ae7c",
   "metadata": {},
   "outputs": [],
   "source": [
    "%pip install neo4j-graphrag langchain-core langchain-openai langchain-neo4j langgraph python-dotenv"
   ]
  },
  {
   "cell_type": "markdown",
   "id": "a2af3348",
   "metadata": {},
   "source": [
    "## Connecting to Neo4j\n",
    "\n",
    "The following cell creates an instance of the Neo4j Python Driver that the retrievers require to connect to the database.  The driver is created with environment variables set in your `.env` file.\n"
   ]
  },
  {
   "cell_type": "code",
   "execution_count": null,
   "id": "45cb6f7e",
   "metadata": {},
   "outputs": [],
   "source": [
    "%load_ext dotenv\n",
    "%dotenv\n",
    "\n",
    "from os import getenv\n",
    "\n",
    "NEO4J_URL = getenv(\"NEO4J_URI\") or \"neo4j://localhost:7687\"\n",
    "NEO4J_USERNAME = getenv(\"NEO4J_USERNAME\") or \"neo4j\"\n",
    "NEO4J_PASSWORD = getenv(\"NEO4J_PASSWORD\") or \"neoneoneo\"\n",
    "NEO4J_DATABASE = getenv(\"NEO4J_DATABASE\") or \"neo4j\"\n",
    "\n",
    "from neo4j import GraphDatabase\n",
    "\n",
    "driver = GraphDatabase.driver(\n",
    "    NEO4J_URL,\n",
    "    auth=(NEO4J_USERNAME, NEO4J_PASSWORD)\n",
    ")\n",
    "\n",
    "driver.verify_connectivity() # Throws an error if the connection is not successful\n"
   ]
  },
  {
   "cell_type": "markdown",
   "id": "94398e7a",
   "metadata": {},
   "source": [
    "## Plain vector search\n",
    "\n",
    "A vector index already exists called `chunkEmbeddings`.  You can [create your own using the `create_vector_index` function](https://github.com/neo4j/neo4j-graphrag-python?tab=readme-ov-file#creating-a-vector-index) or [populate an existing index using the `upsert_vectors` function](https://github.com/neo4j/neo4j-graphrag-python?tab=readme-ov-file#populating-a-vector-index)."
   ]
  },
  {
   "cell_type": "code",
   "execution_count": null,
   "id": "433cada0",
   "metadata": {},
   "outputs": [],
   "source": [
    "INDEX_NAME = \"chunkEmbeddings\"\n",
    "\n",
    "from neo4j_graphrag.embeddings import OpenAIEmbeddings\n",
    "from neo4j_graphrag.llm import OpenAILLM\n",
    "from neo4j_graphrag.retrievers import VectorRetriever\n",
    "\n",
    "# Create an Embedder object\n",
    "embedder = OpenAIEmbeddings()\n",
    "\n",
    "# Initialize the retriever\n",
    "retriever = VectorRetriever(\n",
    "    driver,\n",
    "    neo4j_database=NEO4J_DATABASE,\n",
    "    index_name=INDEX_NAME,\n",
    "    embedder=embedder\n",
    ")\n",
    "\n",
    "# Instantiate the LLM\n",
    "llm = OpenAILLM(model_name=\"gpt-4o\", model_params={\"temperature\": 0})"
   ]
  },
  {
   "cell_type": "markdown",
   "id": "23dec322",
   "metadata": {},
   "source": [
    "The `GraphRAG` class creates a retrieval pipeline that accepts a user input, uses a retriever to fetch the context, and uses an LLM to generate an answer."
   ]
  },
  {
   "cell_type": "code",
   "execution_count": null,
   "id": "b234759b",
   "metadata": {},
   "outputs": [
    {
     "name": "stdout",
     "output_type": "stream",
     "text": [
      "The top risk factors that Apple faces include:\n",
      "\n",
      "1. **Macroeconomic and Industry Risks**: Apple's operations and performance are significantly dependent on global and regional economic conditions. Adverse economic conditions such as slow growth, recession, high unemployment, inflation, tighter credit, higher interest rates, and currency fluctuations can adversely impact consumer confidence and spending, affecting demand for Apple's products and services.\n",
      "\n",
      "2. **Supply Chain Risks**: Apple's supply chain is large and complex, with a majority of supplier facilities located outside the U.S. The company faces risks of supply shortages and price increases, especially for custom components available from only one source. Delays or constraints in the supply of components can materially adversely affect Apple's business.\n",
      "\n",
      "3. **Political and Global Events**: Political events, trade disputes, war, terrorism, natural disasters, public health issues, and other business interruptions can disrupt international commerce and the global economy, potentially having a material adverse effect on Apple and its stakeholders.\n",
      "\n",
      "4. **Cybersecurity Risks**: Apple is at a relatively greater risk of being targeted by malicious attacks due to its high profile and the value of the confidential information it handles. Despite implementing security measures, these may not be sufficient for all eventualities, and breaches can materially adversely affect the company.\n",
      "\n",
      "5. **Regulatory and Legal Risks**: Apple is subject to intense media, political, and regulatory scrutiny, which exposes it to increasing regulation, government investigations, legal actions, and penalties. Changes in laws and regulations, particularly those affecting the App Store, can materially adversely affect Apple's business.\n",
      "\n",
      "6. **Product and Service Quality Risks**: Apple's complex hardware and software products and services can be affected by design and manufacturing defects, which can result in technical and performance issues, harm to reputation, and financial liabilities.\n",
      "\n",
      "7. **Environmental, Social, and Governance (ESG) Risks**: Apple faces increasing focus on ESG considerations, and any failure to achieve its goals or adhere to public statements can result in legal and regulatory proceedings, affecting its business and reputation.\n",
      "\n",
      "These risk factors highlight the various challenges Apple faces in maintaining its business operations and financial performance.\n"
     ]
    }
   ],
   "source": [
    "from neo4j_graphrag.generation import GraphRAG\n",
    "\n",
    "# Instantiate the RAG pipeline\n",
    "rag = GraphRAG(\n",
    "    retriever=retriever,\n",
    "    llm=llm\n",
    ")\n",
    "\n",
    "# Query the graph\n",
    "query = \"What are the top risk factors that Apple faces? \"\n",
    "\n",
    "vector_response = rag.search(query_text=query, return_context=True, retriever_config={\"top_k\": 5})\n",
    "\n",
    "print(vector_response.answer)"
   ]
  },
  {
   "cell_type": "markdown",
   "id": "aea47be2",
   "metadata": {},
   "source": [
    "## Adding context via relationships\n",
    "\n",
    "The above pipeline will produce a generic, non-deterministic answer.  Adding relationships to the query will provide a deterministic answer based on the contents of the knowledge graph.  We do this with the `VectorCypherRetriever` class."
   ]
  },
  {
   "cell_type": "code",
   "execution_count": 9,
   "id": "5d277103",
   "metadata": {},
   "outputs": [],
   "source": [
    "from neo4j_graphrag.retrievers import VectorCypherRetriever\n",
    "\n",
    "detail_context_query = \"\"\"\n",
    "MATCH (node)-[:FROM_DOCUMENT]-(doc:Document)-[:FILED]-(company:Company)-[:FACES_RISK]->(risk:RiskFactor)\n",
    "RETURN company.name AS company, doc.path AS document, collect(DISTINCT risk.name) AS risks, node.text AS context\n",
    "\"\"\"\n",
    "\n",
    "vector_cypher_retriever = VectorCypherRetriever(\n",
    "    driver=driver,\n",
    "    neo4j_database=getenv(\"NEO4J_DATABASE\") or \"graphrag\",\n",
    "    index_name=INDEX_NAME,\n",
    "    embedder=embedder,\n",
    "    retrieval_query=detail_context_query\n",
    ")\n",
    "\n",
    "rag = GraphRAG(retriever=vector_cypher_retriever, llm=llm)\n",
    "\n",
    "query = \"What are the top risk factors that Apple faces?\"\n",
    "\n",
    "vector_cypher_response = rag.search(query_text=query, return_context=True, retriever_config={\"top_k\": 5})"
   ]
  },
  {
   "cell_type": "code",
   "execution_count": 13,
   "id": "dbaf8a0c",
   "metadata": {},
   "outputs": [
    {
     "name": "stdout",
     "output_type": "stream",
     "text": [
      "Apple faces several top risk factors, including:\n",
      "\n",
      "1. **Macroeconomic and Industry Risks**: Adverse global and regional economic conditions can significantly impact Apple's operations and performance. Factors such as slow growth, recession, high unemployment, inflation, tighter credit, higher interest rates, and currency fluctuations can adversely affect consumer confidence and spending, thereby impacting demand for Apple's products and services.\n",
      "\n",
      "2. **Supply Chain Risks**: Apple is subject to significant risks of supply shortages and price increases, particularly for custom components available from only one source. Initial capacity constraints, delays, or constraints in the supply of components can materially adversely affect Apple's business, results of operations, and financial condition.\n",
      "\n",
      "3. **Technological and Product Risks**: The frequent introduction of new products, short product life cycles, and rapid technological advances pose risks. Design and manufacturing defects in Apple's complex hardware and software products can lead to product liability claims, recalls, and harm to Apple's reputation.\n",
      "\n",
      "4. **Legal and Regulatory Compliance Risks**: Apple is subject to intense media, political, and regulatory scrutiny, which exposes it to increasing regulation, government investigations, legal actions, and penalties. Changes in laws and regulations, particularly those affecting the App Store, can materially impact Apple's business practices and financial condition.\n",
      "\n",
      "5. **Cybersecurity and Data Protection Risks**: Apple faces risks from malicious attacks, unauthorized access attempts, and data breaches. Despite implementing security measures, these may not be sufficient for all eventualities, potentially leading to losses or unauthorized access to confidential information.\n",
      "\n",
      "6. **Environmental, Social, and Governance (ESG) Risks**: Increasing focus on ESG considerations, including climate change and diversity, equity, and inclusion, involves risks and uncertainties. Failure to achieve announced ESG goals or comply with evolving stakeholder expectations can result in legal and regulatory proceedings and materially affect Apple's reputation and financial condition.\n",
      "\n",
      "7. **Market and Competitive Risks**: Aggressive price competition, intense competition, and frequent product introductions and transitions can impact Apple's market position and financial performance.\n",
      "\n",
      "These risk factors, among others, can materially and adversely affect Apple's business, reputation, results of operations, financial condition, and stock price.\n",
      "<Record company='APPLE INC' document='data/form10k-sample/0000320193-23-000106.pdf' risks=['Geography', 'Aggressive price competition', 'Frequent introduction of new products', 'Short product life cycles', 'Evolving industry standards', 'Commodity pricing fluctuations', 'Industry-wide shortage and significant commodity pricing fluctuations', 'Initial capacity constraints when new technologies are used', 'Availability of components at acceptable prices', 'Ability to extend or renew component supply agreements', 'Rapid technological advances in industry', 'Need to seek or renew licenses for third-party intellectual property', 'Potential workplace risks', 'General safety, security, and crisis management hazards', 'Risks in potentially high-hazard environments', 'Reputation, financial performance impact', 'Macroeconomic and Industry Risks', 'Adverse macroeconomic conditions', 'Political events, trade and other international disputes, war, terrorism, natural disasters, public health issues, industrial accidents and other business interruptions', 'interruptions in international commerce and the global economy', 'restrictions on international trade', 'political uncertainty', 'natural disasters', 'cybersecurity attacks', 'industrial accidents', 'global climate change', 'pandemics such as COVID-19', 'aggressive price competition', 'infringing on intellectual property', 'intense competition', 'frequent product introductions and transitions', 'dependence on outsourcing partners', 'diminished control over production and distribution', 'product defect liabilities', 'violations of supplier code of conduct', 'disruptions in manufacturing or logistics', 'financial problems of outsourcing partners or suppliers', 'significant supply and pricing risks', 'high demand and shortages in the global semiconductor industry', 'poor financial conditions of component suppliers', 'adverse economic conditions', 'supply shortages and price increases', 'design and manufacturing defects', 'product liability claims', 'write-downs on the value of inventory and other assets', 'product obsolescence', 'forecasting excess or insufficient components', 'infringement of intellectual property rights', 'availability of third-party software applications', \"Failure to obtain or create digital content that appeals to the Company's customers\", 'Failure to make digital content available on commercially reasonable terms', 'Changes due to competition, market conditions, legal and regulatory requirements affecting the App Store', 'Litigation and investigations relating to the App Store', 'Reductions in the rate of commission or changes affecting commission scope or existence', 'Developers focusing efforts on competing platforms', 'Information technology system failures and network disruptions', 'Losses or unauthorized access to or releases of confidential information', 'Malicious attacks and unauthorized access attempts', 'malicious attacks', 'investment in new business strategies and acquisitions', 'risks and uncertainties related to retail operations', 'Legal and Regulatory Compliance Risks', 'Patent claims relating to cellular-enabled products', 'complex and changing laws and regulations', 'regulatory changes and other actions', 'expectations relating to environmental, social and governance considerations', 'intense media, political and regulatory scrutiny', 'antitrust investigations', 'environmental, social and governance considerations', 'Investigations and litigation', 'Compliance with data protection laws', 'Reputational impacts', 'Penalties and legal liability', 'Payment card data security standards compliance', 'pricing pressures and product pricing actions', 'supply shortages', 'potential increases in component costs', 'foreign exchange rate fluctuations', 'credit risk and fluctuations in the values of its investment portfolio', 'credit risk on its trade accounts receivable, vendor non-trade receivables and prepayments related to long-term supply agreements', 'exposure to credit and collectibility risk on its trade receivables', 'Credit risk', 'Tax rate changes', 'Tax liabilities', 'Volatility of stock price', 'macroeconomic conditions', 'uncertain tax positions', 'various legal proceedings and claims', 'market risk from interest rates and foreign exchange', 'Interest Rate Risk', 'Foreign Exchange Rate Risk', 'Economic conditions', 'Political conditions', 'Change in tax laws', 'Cyber-attacks', 'Product, system security, and data protection breaches', 'Supply-chain attacks', 'tax liabilities and tax-related factors', 'adverse changes in tax laws', 'effect of accounting for stock-based compensation and stock price volatility', 'Manufacturing and supply chain risks', 'Security breaches', 'Stock market fluctuations', 'Stock repurchase program volatility', 'Concentration of stock ownership', 'Charter provisions discouraging takeover'] context=\" in both\\nfrequency and sophistication with increasing use by actors of tools and techniques that are designed\\nto circumvent controls, avoid detection, and remove or obfuscate forensic evidence, all of which\\nhinders the Company's ability to identify, investigate and recover from incidents. In addition, attacks\\nagainst the Company and its customers can escalate during periods of severe diplomatic or armed\\nconflict.\\nAlthough malicious attacks perpetrated to gain access to confidential information, including personal\\ninformation, affect many companies across various industries, the Company is at a relatively greater\\nrisk of being targeted because of its high profile and the value of the confidential information it\\ncreates, owns, manages, stores and processes.\\nThe Company has implemented systems and processes intended to secure its information\\ntechnology systems and prevent unauthorized access to or loss of sensitive data, and mitigate the\\nimpact of unauthorized access, including through the use of encryption and authentication\\ntechnologies. As with all companies, these security measures may not be sufficient for all\\neventualities and may be vulnerable to hacking, ransomware attacks, employee error, malfeasance,\\nsystem error, faulty password management or other irregularities. For example, third parties can\\nfraudulently induce the Company's or its vendors' employees or customers into disclosing\\nusernames, passwords or other sensitive information, which can, in turn, be used for unauthorized\\naccess to the Company's or its vendors' systems and services. To help protect customers and the\\nCompany, the Company deploys and makes available technologies like multifactor authentication,\\nmonitors its services and systems for unusual activity and may freeze accounts under suspicious\\ncircumstances, which, among other things, can result in the delay or loss of customer orders or\\nimpede customer access to the Company's products and services.\\nWhile the Company maintains insurance coverage that is intended to address certain aspects of\\ndata security risks, such insurance coverage may be insufficient to cover all losses or all types of\\nclaims that may arise.\\nApple Inc. | 2023 Form 10-K | 11\\nInvestment in new business strategies and acquisitions could disrupt the Company's ongoing\\nbusiness, present risks not originally contemplated and materially adversely affect the Company's\\nbusiness, reputation, results of operations and financial condition.\\nThe Company has invested, and in the future may invest, in new business strategies or acquisitions.\\nSuch endeavors may involve significant risks and uncertainties, including distraction of management\\nfrom current operations, greater-than-expected liabilities and expenses, economic, political, legal\\nand regulatory challenges associated with operating in new businesses, regions or countries,\\ninadequate return on capital, potential impairment of tangible and intangible assets, and significant\\nwrite-offs. Investment and acquisition transactions are exposed to additional risks, including failing to\\nobtain required regulatory approvals on a timely basis or at all, or the imposition of onerous\\nconditions that could delay or prevent the Company from completing a transaction or otherwise limit\\nthe Company's ability to fully realize the anticipated benefits of a transaction. These new ventures\\nare inherently risky and may not be successful. The failure of any significant investment could\\nmaterially adversely affect the Company's business, reputation, results of operations and financial\\ncondition.\\nThe Company's retail stores are subject to numerous risks and uncertainties.\\nThe Company's retail operations are subject to many factors that pose risks and uncertainties and\\ncould adversely impact the Company's business, results of operations and financial condition,\\nincluding macroeconomic factors that could have an adverse effect on general retail activity. Other\\nfactors include the Company's ability to: manage costs \">\n",
      "<Record company='APPLE INC' document='data/form10k-sample/0000320193-23-000106.pdf' risks=['Geography', 'Aggressive price competition', 'Frequent introduction of new products', 'Short product life cycles', 'Evolving industry standards', 'Commodity pricing fluctuations', 'Industry-wide shortage and significant commodity pricing fluctuations', 'Initial capacity constraints when new technologies are used', 'Availability of components at acceptable prices', 'Ability to extend or renew component supply agreements', 'Rapid technological advances in industry', 'Need to seek or renew licenses for third-party intellectual property', 'Potential workplace risks', 'General safety, security, and crisis management hazards', 'Risks in potentially high-hazard environments', 'Reputation, financial performance impact', 'Macroeconomic and Industry Risks', 'Adverse macroeconomic conditions', 'Political events, trade and other international disputes, war, terrorism, natural disasters, public health issues, industrial accidents and other business interruptions', 'interruptions in international commerce and the global economy', 'restrictions on international trade', 'political uncertainty', 'natural disasters', 'cybersecurity attacks', 'industrial accidents', 'global climate change', 'pandemics such as COVID-19', 'aggressive price competition', 'infringing on intellectual property', 'intense competition', 'frequent product introductions and transitions', 'dependence on outsourcing partners', 'diminished control over production and distribution', 'product defect liabilities', 'violations of supplier code of conduct', 'disruptions in manufacturing or logistics', 'financial problems of outsourcing partners or suppliers', 'significant supply and pricing risks', 'high demand and shortages in the global semiconductor industry', 'poor financial conditions of component suppliers', 'adverse economic conditions', 'supply shortages and price increases', 'design and manufacturing defects', 'product liability claims', 'write-downs on the value of inventory and other assets', 'product obsolescence', 'forecasting excess or insufficient components', 'infringement of intellectual property rights', 'availability of third-party software applications', \"Failure to obtain or create digital content that appeals to the Company's customers\", 'Failure to make digital content available on commercially reasonable terms', 'Changes due to competition, market conditions, legal and regulatory requirements affecting the App Store', 'Litigation and investigations relating to the App Store', 'Reductions in the rate of commission or changes affecting commission scope or existence', 'Developers focusing efforts on competing platforms', 'Information technology system failures and network disruptions', 'Losses or unauthorized access to or releases of confidential information', 'Malicious attacks and unauthorized access attempts', 'malicious attacks', 'investment in new business strategies and acquisitions', 'risks and uncertainties related to retail operations', 'Legal and Regulatory Compliance Risks', 'Patent claims relating to cellular-enabled products', 'complex and changing laws and regulations', 'regulatory changes and other actions', 'expectations relating to environmental, social and governance considerations', 'intense media, political and regulatory scrutiny', 'antitrust investigations', 'environmental, social and governance considerations', 'Investigations and litigation', 'Compliance with data protection laws', 'Reputational impacts', 'Penalties and legal liability', 'Payment card data security standards compliance', 'pricing pressures and product pricing actions', 'supply shortages', 'potential increases in component costs', 'foreign exchange rate fluctuations', 'credit risk and fluctuations in the values of its investment portfolio', 'credit risk on its trade accounts receivable, vendor non-trade receivables and prepayments related to long-term supply agreements', 'exposure to credit and collectibility risk on its trade receivables', 'Credit risk', 'Tax rate changes', 'Tax liabilities', 'Volatility of stock price', 'macroeconomic conditions', 'uncertain tax positions', 'various legal proceedings and claims', 'market risk from interest rates and foreign exchange', 'Interest Rate Risk', 'Foreign Exchange Rate Risk', 'Economic conditions', 'Political conditions', 'Change in tax laws', 'Cyber-attacks', 'Product, system security, and data protection breaches', 'Supply-chain attacks', 'tax liabilities and tax-related factors', 'adverse changes in tax laws', 'effect of accounting for stock-based compensation and stock price volatility', 'Manufacturing and supply chain risks', 'Security breaches', 'Stock market fluctuations', 'Stock repurchase program volatility', 'Concentration of stock ownership', 'Charter provisions discouraging takeover'] context='intended to be inactive\\ntextual references only.\\nApple Inc. | 2023 Form 10-K | 4\\nSection: Item1a\\n>Item 1A.    Risk Factors\\nThe Company\\'s business, reputation, results of operations, financial condition and stock price can\\nbe affected by a number of factors, whether currently known or unknown, including those described\\nbelow. When any one or more of these risks materialize from time to time, the Company\\'s business,\\nreputation, results of operations, financial condition and stock price can be materially and adversely\\naffected.\\nBecause of the following factors, as well as other factors affecting the Company\\'s results of\\noperations and financial condition, past financial performance should not be considered to be a\\nreliable indicator of future performance, and investors should not use historical trends to anticipate\\nresults or trends in future periods. This discussion of risk factors contains forward-looking\\nstatements.\\nThis section should be read in conjunction with Part II, Item 7, \"Management\\'s Discussion and\\nAnalysis of Financial Condition and Results of Operations\" and the consolidated financial\\nstatements and accompanying notes in Part II, Item 8, \"Financial Statements and Supplementary\\nData\" of this Form 10-K.\\nMacroeconomic and Industry Risks\\nThe Company\\'s operations and performance depend significantly on global and regional economic\\nconditions and adverse economic conditions can materially adversely affect the Company\\'s\\nbusiness, results of operations and financial condition.\\nThe Company has international operations with sales outside the U.S. representing a majority of the\\nCompany\\'s total net sales. In addition, the Company\\'s global supply chain is large and complex and\\na majority of the Company\\'s supplier facilities, including manufacturing and assembly sites, are\\nlocated outside the U.S. As a result, the Company\\'s operations and performance depend\\nsignificantly on global and regional economic conditions.\\nAdverse macroeconomic conditions, including slow growth or recession, high unemployment,\\ninflation, tighter credit, higher interest rates, and currency fluctuations, can adversely impact\\nconsumer confidence and spending and materially adversely affect demand for the Company\\'s\\nproducts and services. In addition, consumer confidence and spending can be materially adversely\\naffected in response to changes in fiscal and monetary policy, financial market volatility, declines in\\nincome or asset values, and other economic factors.\\nIn addition to an adverse impact on demand for the Company\\'s products and services, uncertainty\\nabout, or a decline in, global or regional economic conditions can have a significant impact on the\\nCompany\\'s suppliers, contract manufacturers, logistics providers, distributors, cellular network\\ncarriers and other channel partners, and developers. Potential outcomes include financial instability;\\ninability to obtain credit to finance business operations; and insolvency.\\nAdverse economic conditions can also lead to increased credit and collectibility risk on the\\nCompany\\'s trade receivables; the failure of derivative counterparties and other financial institutions;\\nlimitations on the Company\\'s ability to issue new debt; reduced liquidity; and declines in the fair\\nvalues of the Company\\'s financial instruments. These and other impacts can materially adversely\\naffect the Company\\'s business, results of operations, financial condition and stock price.\\nThe Company\\'s business can be impacted by political events, trade and other international disputes,\\nwar, terrorism, natural disasters, public health issues, industrial accidents and other business\\ninterruptions.\\nPolitical events, trade and other international disputes, war, terrorism, natural disasters, public\\nhealth issues, industrial accidents and other business interruptions can harm or disrupt international\\ncommerce and the global economy, and could have a material adverse effect on the Company and\\nits customers, suppliers, contract manufacturers, logistics '>\n",
      "<Record company='APPLE INC' document='data/form10k-sample/0000320193-23-000106.pdf' risks=['Geography', 'Aggressive price competition', 'Frequent introduction of new products', 'Short product life cycles', 'Evolving industry standards', 'Commodity pricing fluctuations', 'Industry-wide shortage and significant commodity pricing fluctuations', 'Initial capacity constraints when new technologies are used', 'Availability of components at acceptable prices', 'Ability to extend or renew component supply agreements', 'Rapid technological advances in industry', 'Need to seek or renew licenses for third-party intellectual property', 'Potential workplace risks', 'General safety, security, and crisis management hazards', 'Risks in potentially high-hazard environments', 'Reputation, financial performance impact', 'Macroeconomic and Industry Risks', 'Adverse macroeconomic conditions', 'Political events, trade and other international disputes, war, terrorism, natural disasters, public health issues, industrial accidents and other business interruptions', 'interruptions in international commerce and the global economy', 'restrictions on international trade', 'political uncertainty', 'natural disasters', 'cybersecurity attacks', 'industrial accidents', 'global climate change', 'pandemics such as COVID-19', 'aggressive price competition', 'infringing on intellectual property', 'intense competition', 'frequent product introductions and transitions', 'dependence on outsourcing partners', 'diminished control over production and distribution', 'product defect liabilities', 'violations of supplier code of conduct', 'disruptions in manufacturing or logistics', 'financial problems of outsourcing partners or suppliers', 'significant supply and pricing risks', 'high demand and shortages in the global semiconductor industry', 'poor financial conditions of component suppliers', 'adverse economic conditions', 'supply shortages and price increases', 'design and manufacturing defects', 'product liability claims', 'write-downs on the value of inventory and other assets', 'product obsolescence', 'forecasting excess or insufficient components', 'infringement of intellectual property rights', 'availability of third-party software applications', \"Failure to obtain or create digital content that appeals to the Company's customers\", 'Failure to make digital content available on commercially reasonable terms', 'Changes due to competition, market conditions, legal and regulatory requirements affecting the App Store', 'Litigation and investigations relating to the App Store', 'Reductions in the rate of commission or changes affecting commission scope or existence', 'Developers focusing efforts on competing platforms', 'Information technology system failures and network disruptions', 'Losses or unauthorized access to or releases of confidential information', 'Malicious attacks and unauthorized access attempts', 'malicious attacks', 'investment in new business strategies and acquisitions', 'risks and uncertainties related to retail operations', 'Legal and Regulatory Compliance Risks', 'Patent claims relating to cellular-enabled products', 'complex and changing laws and regulations', 'regulatory changes and other actions', 'expectations relating to environmental, social and governance considerations', 'intense media, political and regulatory scrutiny', 'antitrust investigations', 'environmental, social and governance considerations', 'Investigations and litigation', 'Compliance with data protection laws', 'Reputational impacts', 'Penalties and legal liability', 'Payment card data security standards compliance', 'pricing pressures and product pricing actions', 'supply shortages', 'potential increases in component costs', 'foreign exchange rate fluctuations', 'credit risk and fluctuations in the values of its investment portfolio', 'credit risk on its trade accounts receivable, vendor non-trade receivables and prepayments related to long-term supply agreements', 'exposure to credit and collectibility risk on its trade receivables', 'Credit risk', 'Tax rate changes', 'Tax liabilities', 'Volatility of stock price', 'macroeconomic conditions', 'uncertain tax positions', 'various legal proceedings and claims', 'market risk from interest rates and foreign exchange', 'Interest Rate Risk', 'Foreign Exchange Rate Risk', 'Economic conditions', 'Political conditions', 'Change in tax laws', 'Cyber-attacks', 'Product, system security, and data protection breaches', 'Supply-chain attacks', 'tax liabilities and tax-related factors', 'adverse changes in tax laws', 'effect of accounting for stock-based compensation and stock price volatility', 'Manufacturing and supply chain risks', 'Security breaches', 'Stock market fluctuations', 'Stock repurchase program volatility', 'Concentration of stock ownership', 'Charter provisions discouraging takeover'] context='impact the Company\\'s net sales to its indirect distribution\\nchannels as these channels are filled with new inventory following a product launch, and channel\\ninventory of an older product often declines as the launch of a newer product approaches. Net sales\\ncan also be affected when consumers and distributors anticipate a product introduction.\\nHuman Capital\\nThe Company believes it has a talented, motivated and dedicated team, and works to create an\\ninclusive, safe and supportive environment for all of its team members. As of September 30, 2023,\\nthe Company had approximately 161,000 full-time equivalent employees.\\nWorkplace Practices and Policies\\nThe Company is an equal opportunity employer committed to inclusion and diversity and to\\nproviding a workplace free of harassment or discrimination.\\nCompensation and Benefits\\nThe Company believes that compensation should be competitive and equitable, and should enable\\nemployees to share in the Company\\'s success. The Company recognizes its people are most likely\\nto thrive when they have the resources to meet their needs and the time and support to succeed in\\ntheir professional and personal lives. In support of this, the Company offers a wide variety of\\nbenefits for employees around the world and invests in tools and resources that are designed to\\nsupport employees\\' individual growth and development.\\nInclusion and Diversity\\nThe Company is committed to its vision to build and sustain a more inclusive workforce that is\\nrepresentative of the communities it serves. The Company continues to work to increase diverse\\nrepresentation at every level, foster an inclusive culture, and support equitable pay and access to\\nopportunity for all employees.\\nEngagement\\nThe Company believes that open and honest communication among team members, managers and\\nleaders helps create an open, collaborative work environment where everyone can contribute, grow\\nand succeed. Team members are encouraged to come to their managers with questions, feedback\\nor concerns, and the Company conducts surveys that gauge employee sentiment in areas like\\ncareer development, manager performance and inclusivity.\\nHealth and Safety\\nThe Company is committed to protecting its team members everywhere it operates. The Company\\nidentifies potential workplace risks in order to develop measures to mitigate possible hazards. The\\nCompany supports employees with general safety, security and crisis management training, and by\\nputting specific programs in place for those working in potentially high-hazard environments.\\nAdditionally, the Company works to protect the safety and security of its team members, visitors and\\ncustomers through its global security team.\\nAvailable Information\\nThe Company\\'s Annual Reports on Form 10-K, Quarterly Reports on Form 10-Q, Current Reports\\non Form 8-K, and amendments to reports filed pursuant to Sections 13(a) and 15(d) of the\\nSecurities Exchange Act of 1934, as amended (the \"Exchange Act\"), are filed with the U.S.\\nSecurities and Exchange Commission (the \"SEC\"). Such reports and other information filed by the\\nCompany with the SEC are available free of charge at\\ninvestor.apple.com/investor-relations/sec-filings/default.aspx when such reports are available on the\\nSEC\\'s website. The Company periodically provides certain information for investors on its corporate\\nwebsite, www.apple.com, and its investor relations website, investor.apple.com. This includes press\\nreleases and other information about financial performance, information on environmental, social\\nand governance matters, and details related to the Company\\'s annual meeting of shareholders. The\\ninformation contained on the websites referenced in this Form 10-K is not incorporated by reference\\ninto this filing. Further, the Company\\'s references to website URLs are intended to be inactive\\ntextual references only.\\nApple Inc. | 2023 Form 10-K | 4\\nSection: Item1a\\n>Item 1A.    Risk Factors\\nThe Company\\'s business, reputation, results of operations, financial condition '>\n",
      "<Record company='APPLE INC' document='data/form10k-sample/0000320193-23-000106.pdf' risks=['Geography', 'Aggressive price competition', 'Frequent introduction of new products', 'Short product life cycles', 'Evolving industry standards', 'Commodity pricing fluctuations', 'Industry-wide shortage and significant commodity pricing fluctuations', 'Initial capacity constraints when new technologies are used', 'Availability of components at acceptable prices', 'Ability to extend or renew component supply agreements', 'Rapid technological advances in industry', 'Need to seek or renew licenses for third-party intellectual property', 'Potential workplace risks', 'General safety, security, and crisis management hazards', 'Risks in potentially high-hazard environments', 'Reputation, financial performance impact', 'Macroeconomic and Industry Risks', 'Adverse macroeconomic conditions', 'Political events, trade and other international disputes, war, terrorism, natural disasters, public health issues, industrial accidents and other business interruptions', 'interruptions in international commerce and the global economy', 'restrictions on international trade', 'political uncertainty', 'natural disasters', 'cybersecurity attacks', 'industrial accidents', 'global climate change', 'pandemics such as COVID-19', 'aggressive price competition', 'infringing on intellectual property', 'intense competition', 'frequent product introductions and transitions', 'dependence on outsourcing partners', 'diminished control over production and distribution', 'product defect liabilities', 'violations of supplier code of conduct', 'disruptions in manufacturing or logistics', 'financial problems of outsourcing partners or suppliers', 'significant supply and pricing risks', 'high demand and shortages in the global semiconductor industry', 'poor financial conditions of component suppliers', 'adverse economic conditions', 'supply shortages and price increases', 'design and manufacturing defects', 'product liability claims', 'write-downs on the value of inventory and other assets', 'product obsolescence', 'forecasting excess or insufficient components', 'infringement of intellectual property rights', 'availability of third-party software applications', \"Failure to obtain or create digital content that appeals to the Company's customers\", 'Failure to make digital content available on commercially reasonable terms', 'Changes due to competition, market conditions, legal and regulatory requirements affecting the App Store', 'Litigation and investigations relating to the App Store', 'Reductions in the rate of commission or changes affecting commission scope or existence', 'Developers focusing efforts on competing platforms', 'Information technology system failures and network disruptions', 'Losses or unauthorized access to or releases of confidential information', 'Malicious attacks and unauthorized access attempts', 'malicious attacks', 'investment in new business strategies and acquisitions', 'risks and uncertainties related to retail operations', 'Legal and Regulatory Compliance Risks', 'Patent claims relating to cellular-enabled products', 'complex and changing laws and regulations', 'regulatory changes and other actions', 'expectations relating to environmental, social and governance considerations', 'intense media, political and regulatory scrutiny', 'antitrust investigations', 'environmental, social and governance considerations', 'Investigations and litigation', 'Compliance with data protection laws', 'Reputational impacts', 'Penalties and legal liability', 'Payment card data security standards compliance', 'pricing pressures and product pricing actions', 'supply shortages', 'potential increases in component costs', 'foreign exchange rate fluctuations', 'credit risk and fluctuations in the values of its investment portfolio', 'credit risk on its trade accounts receivable, vendor non-trade receivables and prepayments related to long-term supply agreements', 'exposure to credit and collectibility risk on its trade receivables', 'Credit risk', 'Tax rate changes', 'Tax liabilities', 'Volatility of stock price', 'macroeconomic conditions', 'uncertain tax positions', 'various legal proceedings and claims', 'market risk from interest rates and foreign exchange', 'Interest Rate Risk', 'Foreign Exchange Rate Risk', 'Economic conditions', 'Political conditions', 'Change in tax laws', 'Cyber-attacks', 'Product, system security, and data protection breaches', 'Supply-chain attacks', 'tax liabilities and tax-related factors', 'adverse changes in tax laws', 'effect of accounting for stock-based compensation and stock price volatility', 'Manufacturing and supply chain risks', 'Security breaches', 'Stock market fluctuations', 'Stock repurchase program volatility', 'Concentration of stock ownership', 'Charter provisions discouraging takeover'] context=\"the Company to potential liabilities, increased costs, reputational harm, and other\\nadverse effects on the Company's business.\\nMany governments, regulators, investors, employees, customers and other stakeholders are\\nincreasingly focused on environmental, social and governance considerations relating to\\nbusinesses, including climate change and greenhouse gas emissions, human and civil rights, and\\ndiversity, equity and inclusion. In addition, the Company makes statements about its goals and\\ninitiatives through its various non-financial reports, information provided on its website, press\\nstatements and other communications. Responding to these environmental, social and governance\\nconsiderations and implementation of these goals and initiatives involves risks and uncertainties,\\nrequires investments, and depends in part on third-party performance or data that is outside the\\nCompany's control. The Company cannot guarantee that it will achieve its announced\\nenvironmental, social and governance goals and initiatives. In addition, some stakeholders may\\ndisagree with the Company's goals and initiatives. Any failure, or perceived failure, by the Company\\nto achieve its goals, further its initiatives, adhere to its public statements, comply with federal, state\\nor international environmental, social and governance laws and regulations, or meet evolving and\\nvaried stakeholder expectations and standards could result in legal and regulatory proceedings\\nagainst the Company and materially adversely affect the Company's business, reputation, results of\\noperations, financial condition and stock price.\\nThe technology industry, including, in some instances, the Company, is subject to intense media,\\npolitical and regulatory scrutiny, which exposes the Company to increasing regulation, government\\ninvestigations, legal actions and penalties.\\nFrom time to time, the Company has made changes to its App Store, including actions taken in\\nresponse to litigation, competition, market conditions and legal and regulatory requirements. The\\nCompany expects to make further business changes in the future, including as a result of legislative\\ninitiatives impacting the App Store, such as the EU Digital Markets Act, which the Company is\\nrequired to comply with by March 2024, or similar laws in other jurisdictions. Changes have included\\nhow developers communicate with consumers outside the App Store regarding alternative\\npurchasing mechanisms. Future changes could also affect what the Company charges developers\\nfor access to its platforms, how it manages distribution of apps outside of the App Store, and how\\nand to what extent it allows developers to communicate with consumers inside the App Store\\nregarding alternative purchasing mechanisms.\\nApple Inc. | 2023 Form 10-K | 13\\nThe Company is also currently subject to antitrust investigations in various jurisdictions around the\\nworld, which can result in legal proceedings and claims against the Company that could, individually\\nor in the aggregate, have a materially adverse impact on the Company's business, results of\\noperations and financial condition. For example, the Company is the subject of investigations in\\nEurope and other jurisdictions relating to App Store terms and conditions. If such investigations\\nresult in adverse findings against the Company, the Company could be exposed to significant fines\\nand may be required to make changes to its App Store business, all of which could materially\\nadversely affect the Company's business, results of operations and financial condition. The\\nCompany is also subject to litigation relating to the App Store, which has resulted in changes to the\\nCompany's business practices, and may in the future result in further changes.\\nFurther, the Company has commercial relationships with other companies in the technology industry\\nthat are or may become subject to investigations and litigation that, if resolved against those other\\ncompanies, could materially adversely affect the Company's \">\n",
      "<Record company='APPLE INC' document='data/form10k-sample/0000320193-23-000106.pdf' risks=['Geography', 'Aggressive price competition', 'Frequent introduction of new products', 'Short product life cycles', 'Evolving industry standards', 'Commodity pricing fluctuations', 'Industry-wide shortage and significant commodity pricing fluctuations', 'Initial capacity constraints when new technologies are used', 'Availability of components at acceptable prices', 'Ability to extend or renew component supply agreements', 'Rapid technological advances in industry', 'Need to seek or renew licenses for third-party intellectual property', 'Potential workplace risks', 'General safety, security, and crisis management hazards', 'Risks in potentially high-hazard environments', 'Reputation, financial performance impact', 'Macroeconomic and Industry Risks', 'Adverse macroeconomic conditions', 'Political events, trade and other international disputes, war, terrorism, natural disasters, public health issues, industrial accidents and other business interruptions', 'interruptions in international commerce and the global economy', 'restrictions on international trade', 'political uncertainty', 'natural disasters', 'cybersecurity attacks', 'industrial accidents', 'global climate change', 'pandemics such as COVID-19', 'aggressive price competition', 'infringing on intellectual property', 'intense competition', 'frequent product introductions and transitions', 'dependence on outsourcing partners', 'diminished control over production and distribution', 'product defect liabilities', 'violations of supplier code of conduct', 'disruptions in manufacturing or logistics', 'financial problems of outsourcing partners or suppliers', 'significant supply and pricing risks', 'high demand and shortages in the global semiconductor industry', 'poor financial conditions of component suppliers', 'adverse economic conditions', 'supply shortages and price increases', 'design and manufacturing defects', 'product liability claims', 'write-downs on the value of inventory and other assets', 'product obsolescence', 'forecasting excess or insufficient components', 'infringement of intellectual property rights', 'availability of third-party software applications', \"Failure to obtain or create digital content that appeals to the Company's customers\", 'Failure to make digital content available on commercially reasonable terms', 'Changes due to competition, market conditions, legal and regulatory requirements affecting the App Store', 'Litigation and investigations relating to the App Store', 'Reductions in the rate of commission or changes affecting commission scope or existence', 'Developers focusing efforts on competing platforms', 'Information technology system failures and network disruptions', 'Losses or unauthorized access to or releases of confidential information', 'Malicious attacks and unauthorized access attempts', 'malicious attacks', 'investment in new business strategies and acquisitions', 'risks and uncertainties related to retail operations', 'Legal and Regulatory Compliance Risks', 'Patent claims relating to cellular-enabled products', 'complex and changing laws and regulations', 'regulatory changes and other actions', 'expectations relating to environmental, social and governance considerations', 'intense media, political and regulatory scrutiny', 'antitrust investigations', 'environmental, social and governance considerations', 'Investigations and litigation', 'Compliance with data protection laws', 'Reputational impacts', 'Penalties and legal liability', 'Payment card data security standards compliance', 'pricing pressures and product pricing actions', 'supply shortages', 'potential increases in component costs', 'foreign exchange rate fluctuations', 'credit risk and fluctuations in the values of its investment portfolio', 'credit risk on its trade accounts receivable, vendor non-trade receivables and prepayments related to long-term supply agreements', 'exposure to credit and collectibility risk on its trade receivables', 'Credit risk', 'Tax rate changes', 'Tax liabilities', 'Volatility of stock price', 'macroeconomic conditions', 'uncertain tax positions', 'various legal proceedings and claims', 'market risk from interest rates and foreign exchange', 'Interest Rate Risk', 'Foreign Exchange Rate Risk', 'Economic conditions', 'Political conditions', 'Change in tax laws', 'Cyber-attacks', 'Product, system security, and data protection breaches', 'Supply-chain attacks', 'tax liabilities and tax-related factors', 'adverse changes in tax laws', 'effect of accounting for stock-based compensation and stock price volatility', 'Manufacturing and supply chain risks', 'Security breaches', 'Stock market fluctuations', 'Stock repurchase program volatility', 'Concentration of stock ownership', 'Charter provisions discouraging takeover'] context='conditions and adverse economic conditions can materially adversely affect the Company\\'s\\nbusiness, results of operations and financial condition,\\n\" above, can also affect the Company\\'s ability to obtain components\\n. \\nTherefore, the Company remains subject to significant risks of supply shortages and price increases\\nthat can materially adversely affect its business, results of operations and financial condition.\\nThe Company\\'s new products often utilize custom components available from only one source.\\nWhen a component or product uses new technologies, initial capacity constraints may exist until the\\nsuppliers\\' yields have matured or their manufacturing capacities have increased. The continued\\navailability of these components at acceptable prices, or at all, can be affected for any number of\\nreasons, including if suppliers decide to concentrate on the production of common components\\ninstead of components customized to meet the Company\\'s requirements. When the Company\\'s\\nsupply of components for a new or existing product has been delayed or constrained, or when an\\noutsourcing partner has delayed shipments of completed products to the Company, the Company\\'s\\nbusiness, results of operations and financial condition have been adversely affected and future\\ndelays or constraints could materially adversely affect the Company\\'s business, results of operations\\nand financial condition. The Company\\'s business and financial performance could also be materially\\nadversely affected depending on the time required to obtain sufficient quantities from the source, or\\nto identify and obtain sufficient quantities from an alternative source.\\nThe Company\\'s products and services may be affected from time to time by design and\\nmanufacturing defects that could materially adversely affect the Company\\'s business and result in\\nharm to the Company\\'s reputation.\\nThe Company offers complex hardware and software products and services that can be affected by\\ndesign and manufacturing defects. Sophisticated operating system software and applications, such\\nas those offered by the Company, often have issues that can unexpectedly interfere with the\\nintended operation of hardware or software products and services. Defects can also exist in\\ncomponents and products the Company purchases from third parties. Component defects could\\nmake the Company\\'s products unsafe and create a risk of environmental or property damage and\\npersonal injury. These risks may increase as the Company\\'s products are introduced into\\nspecialized applications, including health. In addition, the Company\\'s service offerings can have\\nquality issues and from time to time experience outages, service slowdowns or errors. As a result,\\nfrom time to time the Company\\'s services have not performed as anticipated and may not meet\\ncustomer expectations. There can be no assurance the Company will be able to detect and fix all\\nissues and defects in the hardware, software and services it offers. Failure to do so can result in\\nwidespread technical and performance issues affecting the Company\\'s products and services. In\\naddition, the Company can be exposed to product liability claims, recalls, product replacements or\\nmodifications, write-offs of inventory, property, plant and equipment or intangible assets, and\\nsignificant warranty and other expenses, including litigation costs and regulatory fines. Quality\\nproblems can also adversely affect the experience for users of the Company\\'s products and\\nservices, and result in harm to the Company\\'s reputation, loss of competitive advantage, poor\\nmarket acceptance, reduced demand for products and services, delay in new product and service\\nintroductions and lost sales.\\nApple Inc. | 2023 Form 10-K | 8\\nThe Company is exposed to the risk of write-downs on the value of its inventory and other assets, in\\naddition to purchase commitment cancellation risk.\\nThe Company records a write-down for product and component inventories that have become\\nobsolete or exceed anticipated demand, or '>\n"
     ]
    }
   ],
   "source": [
    "print(vector_cypher_response.answer)\n",
    "\n",
    "\n",
    "for item in vector_cypher_response.retriever_result.items:\n",
    "    print(item.content)\n"
   ]
  },
  {
   "cell_type": "markdown",
   "id": "931b25e8",
   "metadata": {},
   "source": [
    "## Evaluating the responses\n",
    "\n",
    "You can use **Noise Sensitivity** to measures the amount of irrelevant information, or noise, in the retrieved documents."
   ]
  },
  {
   "cell_type": "code",
   "execution_count": null,
   "id": "d0728e2a",
   "metadata": {},
   "outputs": [],
   "source": [
    "%pip install ragas langchain-openai"
   ]
  },
  {
   "cell_type": "code",
   "execution_count": null,
   "id": "901131e2",
   "metadata": {},
   "outputs": [],
   "source": [
    "\n",
    "from langchain_openai import ChatOpenAI\n",
    "llm = ChatOpenAI()\n",
    "\n",
    "from ragas import evaluate, EvaluationDataset\n",
    "from ragas.llms import LangchainLLMWrapper\n",
    "from ragas.metrics import LLMContextPrecisionWithReference, LLMContextPrecisionWithoutReference, NoiseSensitivity\n",
    "evaluator_llm = LangchainLLMWrapper(llm)\n",
    "\n",
    "\n",
    "context_precision = LLMContextPrecisionWithReference(llm=evaluator_llm)\n",
    "# context_precision_without_reference = LLMContextPrecisionWithoutReference(llm=evaluator_llm)\n",
    "noise_sensitivity = NoiseSensitivity(llm=evaluator_llm, mode=\"irrelevant\")\n",
    "\n",
    "\n",
    "metrics = [\n",
    "    context_precision,\n",
    "    noise_sensitivity\n",
    "]"
   ]
  },
  {
   "cell_type": "code",
   "execution_count": null,
   "id": "ae3ab96b",
   "metadata": {},
   "outputs": [
    {
     "data": {
      "text/plain": [
       "\"Ability to extend or renew component supply agreements, Adverse macroeconomic conditions, Aggressive price competition, Availability of components at acceptable prices, Change in tax laws, Changes due to competition, market conditions, legal and regulatory requirements affecting the App Store, Charter provisions discouraging takeover, Commodity pricing fluctuations, Compliance with data protection laws, Concentration of stock ownership, Credit risk, Cyber-attacks, Developers focusing efforts on competing platforms, Economic conditions, Evolving industry standards, Failure to make digital content available on commercially reasonable terms, Failure to obtain or create digital content that appeals to the Company's customers, Foreign Exchange Rate Risk, Frequent introduction of new products, General safety, security, and crisis management hazards, Geography, Industry-wide shortage and significant commodity pricing fluctuations, Information technology system failures and network disruptions, Initial capacity constraints when new technologies are used, Interest Rate Risk, Investigations and litigation, Legal and Regulatory Compliance Risks, Litigation and investigations relating to the App Store, Losses or unauthorized access to or releases of confidential information, Macroeconomic and Industry Risks, Malicious attacks and unauthorized access attempts, Manufacturing and supply chain risks, Need to seek or renew licenses for third-party intellectual property, Patent claims relating to cellular-enabled products, Payment card data security standards compliance, Penalties and legal liability, Political conditions, Political events, trade and other international disputes, war, terrorism, natural disasters, public health issues, industrial accidents and other business interruptions, Potential workplace risks, Product, system security, and data protection breaches, Rapid technological advances in industry, Reductions in the rate of commission or changes affecting commission scope or existence, Reputation, financial performance impact, Reputational impacts, Risks in potentially high-hazard environments, Security breaches, Short product life cycles, Stock market fluctuations, Stock repurchase program volatility, Supply-chain attacks, Tax liabilities, Tax rate changes, Volatility of stock price, adverse changes in tax laws, adverse economic conditions, aggressive price competition, antitrust investigations, availability of third-party software applications, complex and changing laws and regulations, credit risk and fluctuations in the values of its investment portfolio, credit risk on its trade accounts receivable, vendor non-trade receivables and prepayments related to long-term supply agreements, cybersecurity attacks, dependence on outsourcing partners, design and manufacturing defects, diminished control over production and distribution, disruptions in manufacturing or logistics, effect of accounting for stock-based compensation and stock price volatility, environmental, social and governance considerations, expectations relating to environmental, social and governance considerations, exposure to credit and collectibility risk on its trade receivables, financial problems of outsourcing partners or suppliers, forecasting excess or insufficient components, foreign exchange rate fluctuations, frequent product introductions and transitions, global climate change, high demand and shortages in the global semiconductor industry, industrial accidents, infringement of intellectual property rights, infringing on intellectual property, intense competition, intense media, political and regulatory scrutiny, interruptions in international commerce and the global economy, investment in new business strategies and acquisitions, macroeconomic conditions, malicious attacks, market risk from interest rates and foreign exchange, natural disasters, pandemics such as COVID-19, political uncertainty, poor financial conditions of component suppliers, potential increases in component costs, pricing pressures and product pricing actions, product defect liabilities, product liability claims, product obsolescence, regulatory changes and other actions, restrictions on international trade, risks and uncertainties related to retail operations, significant supply and pricing risks, supply shortages, supply shortages and price increases, tax liabilities and tax-related factors, uncertain tax positions, various legal proceedings and claims, violations of supplier code of conduct, write-downs on the value of inventory and other assets\""
      ]
     },
     "execution_count": 53,
     "metadata": {},
     "output_type": "execute_result"
    }
   ],
   "source": [
    "# Ground truth/reference data from the database\n",
    "reference = driver.execute_query(\n",
    "    \"match (c:Company {name: 'APPLE INC'})-[:FACES_RISK]->(r) RETURN r.name AS risk ORDER BY risk\",\n",
    "    database_=NEO4J_DATABASE,\n",
    "    result_transformer_=lambda result: \", \".join([row['risk'] for row in result])\n",
    ")\n",
    "\n",
    "reference"
   ]
  },
  {
   "cell_type": "code",
   "execution_count": null,
   "id": "4aa55c9e",
   "metadata": {},
   "outputs": [],
   "source": [
    "vector_result = SingleTurnSample(\n",
    "    user_input=query,\n",
    "    reference=reference,\n",
    "    retrieved_contexts=[str(item.content) for item in vector_response.retriever_result.items],\n",
    "    response=vector_response.answer,\n",
    ")\n",
    "\n",
    "cypher_result = SingleTurnSample(\n",
    "    user_input=query,\n",
    "    reference=reference,\n",
    "    retrieved_contexts=[str(item.content) for item in vector_cypher_response.retriever_result.items],\n",
    "    response=vector_cypher_response.answer,\n",
    ")\n"
   ]
  },
  {
   "cell_type": "code",
   "execution_count": null,
   "id": "15586965",
   "metadata": {},
   "outputs": [],
   "source": [
    "print(\"Vector:\")\n",
    "for metric in metrics:\n",
    "    try:\n",
    "        print(metric.name, \"vector\", await metric.single_turn_ascore(vector_result))\n",
    "    except ValueError as e:\n",
    "        print(metric.name, \"vector\", e)\n",
    "\n",
    "\n",
    "print(\"Vector + Relationships:\")\n",
    "for metric in metrics:\n",
    "    try:\n",
    "        print(metric.name, \"cypher\", await metric.single_turn_ascore(cypher_result))\n",
    "    except ValueError as e:\n",
    "        print(metric.name, \"cypher\", e)\n"
   ]
  },
  {
   "cell_type": "code",
   "execution_count": null,
   "id": "4e5cf292",
   "metadata": {},
   "outputs": [],
   "source": []
  }
 ],
 "metadata": {
  "kernelspec": {
   "display_name": ".venv",
   "language": "python",
   "name": "python3"
  },
  "language_info": {
   "codemirror_mode": {
    "name": "ipython",
    "version": 3
   },
   "file_extension": ".py",
   "mimetype": "text/x-python",
   "name": "python",
   "nbconvert_exporter": "python",
   "pygments_lexer": "ipython3",
   "version": "3.13.3"
  }
 },
 "nbformat": 4,
 "nbformat_minor": 5
}
