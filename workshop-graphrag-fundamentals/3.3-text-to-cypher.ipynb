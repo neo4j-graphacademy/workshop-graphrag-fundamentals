{
 "cells": [
  {
   "cell_type": "markdown",
   "id": "caa5eb02",
   "metadata": {},
   "source": [
    "# Text to Cypher\n",
    "\n",
    "## Installation\n",
    "\n",
    "This notebook requires the following dependencies:"
   ]
  },
  {
   "cell_type": "code",
   "execution_count": null,
   "id": "f256ae7c",
   "metadata": {},
   "outputs": [],
   "source": [
    "%pip install neo4j-graphrag langchain-core langchain-openai langchain-neo4j langgraph python-dotenv"
   ]
  },
  {
   "cell_type": "markdown",
   "id": "a2af3348",
   "metadata": {},
   "source": [
    "## Connecting to Neo4j\n",
    "\n",
    "The following cell creates an instance of the Neo4j Python Driver that the retrievers require to connect to the database.  The driver is created with environment variables set in your `.env` file.\n"
   ]
  },
  {
   "cell_type": "code",
   "execution_count": 1,
   "id": "45cb6f7e",
   "metadata": {},
   "outputs": [],
   "source": [
    "%load_ext dotenv\n",
    "%dotenv\n",
    "\n",
    "from os import getenv\n",
    "\n",
    "NEO4J_URL = getenv(\"NEO4J_URI\") or \"neo4j://localhost:7687\"\n",
    "NEO4J_USERNAME = getenv(\"NEO4J_USERNAME\") or \"neo4j\"\n",
    "NEO4J_PASSWORD = getenv(\"NEO4J_PASSWORD\") or \"neoneoneo\"\n",
    "NEO4J_DATABASE = getenv(\"NEO4J_DATABASE\") or \"neo4j\"\n",
    "\n",
    "from neo4j import GraphDatabase\n",
    "\n",
    "driver = GraphDatabase.driver(\n",
    "    NEO4J_URL,\n",
    "    auth=(NEO4J_USERNAME, NEO4J_PASSWORD)\n",
    ")\n",
    "\n",
    "driver.verify_connectivity() # Throws an error if the connection is not successful\n"
   ]
  },
  {
   "cell_type": "markdown",
   "id": "94398e7a",
   "metadata": {},
   "source": [
    "## Text to Cypher\n",
    "\n",
    "A vector index already exists called `chunkEmbeddings`.  You can [create your own using the `create_vector_index` function](https://github.com/neo4j/neo4j-graphrag-python?tab=readme-ov-file#creating-a-vector-index) or [populate an existing index using the `upsert_vectors` function](https://github.com/neo4j/neo4j-graphrag-python?tab=readme-ov-file#populating-a-vector-index)."
   ]
  },
  {
   "cell_type": "markdown",
   "id": "c0984dff",
   "metadata": {},
   "source": [
    "### Obtaining the database schema\n",
    "\n",
    "The Neo4j GraphRAG library provides two functions for retrieving the schema of an existing graph database."
   ]
  },
  {
   "cell_type": "code",
   "execution_count": 4,
   "id": "d76093df",
   "metadata": {},
   "outputs": [
    {
     "name": "stdout",
     "output_type": "stream",
     "text": [
      "Node properties:\n",
      "Chunk {:ID: STRING, embedding: LIST, text: STRING, __tmp_internal_id: STRING, index: INTEGER}\n",
      "AssetManager {:ID: STRING, managerName: STRING}\n",
      "Company {:ID: STRING, name: STRING, ticker: STRING, __tmp_internal_id: STRING}\n",
      "Document {:ID: STRING, path: STRING}\n",
      "Executive {:ID: STRING, name: STRING}\n",
      "FinancialMetric {:ID: STRING, name: STRING}\n",
      "Product {:ID: STRING, name: STRING}\n",
      "RiskFactor {:ID: STRING, name: STRING}\n",
      "StockType {:ID: STRING, name: STRING}\n",
      "TimePeriod {:ID: STRING, name: STRING}\n",
      "Transaction {:ID: STRING, name: STRING}\n",
      "Location {name: STRING, __tmp_internal_id: STRING}\n",
      "Country {name: STRING, __tmp_internal_id: STRING}\n",
      "FundingRound {__tmp_internal_id: STRING, amount: FLOAT, id: STRING, series: STRING}\n",
      "Relationship properties:\n",
      "OWNS {position_status: STRING}\n",
      "FUNDED_BY {amount: FLOAT, date: STRING}\n",
      "The relationships:\n",
      "(:Chunk)-[:NEXT_CHUNK]->(:Chunk)\n",
      "(:Chunk)-[:FROM_DOCUMENT]->(:Document)\n",
      "(:AssetManager)-[:OWNS]->(:Company)\n",
      "(:Company)-[:FACES_RISK]->(:RiskFactor)\n",
      "(:Company)-[:FILED]->(:Document)\n",
      "(:Company)-[:FROM_CHUNK]->(:Chunk)\n",
      "(:Company)-[:HAS_METRIC]->(:FinancialMetric)\n",
      "(:Company)-[:HAS_METRIC]->(:StockType)\n",
      "(:Company)-[:HAS_METRIC]->(:Product)\n",
      "(:Company)-[:HAS_METRIC]->(:TimePeriod)\n",
      "(:Company)-[:HAS_METRIC]->(:Executive)\n",
      "(:Company)-[:HAS_METRIC]->(:RiskFactor)\n",
      "(:Company)-[:HAS_METRIC]->(:Transaction)\n",
      "(:Company)-[:MENTIONS]->(:Executive)\n",
      "(:Company)-[:MENTIONS]->(:Product)\n",
      "(:Company)-[:MENTIONS]->(:TimePeriod)\n",
      "(:Company)-[:MENTIONS]->(:RiskFactor)\n",
      "(:Company)-[:MENTIONS]->(:Transaction)\n",
      "(:Company)-[:MENTIONS]->(:Company)\n",
      "(:Company)-[:ISSUED_STOCK]->(:StockType)\n",
      "(:Company)-[:ISSUED_STOCK]->(:FinancialMetric)\n",
      "(:Company)-[:ISSUED_STOCK]->(:Transaction)\n",
      "(:Company)-[:LOCATED_IN]->(:Location)\n",
      "(:Company)-[:HAS_FUNDING_ROUND]->(:FundingRound)\n",
      "(:Executive)-[:FROM_CHUNK]->(:Chunk)\n",
      "(:FinancialMetric)-[:FROM_CHUNK]->(:Chunk)\n",
      "(:FinancialMetric)-[:MENTIONS]->(:TimePeriod)\n",
      "(:FinancialMetric)-[:HAS_METRIC]->(:TimePeriod)\n",
      "(:FinancialMetric)-[:HAS_METRIC]->(:Company)\n",
      "(:Product)-[:FROM_CHUNK]->(:Chunk)\n",
      "(:Product)-[:MENTIONS]->(:Company)\n",
      "(:Product)-[:MENTIONS]->(:RiskFactor)\n",
      "(:Product)-[:MENTIONS]->(:Executive)\n",
      "(:RiskFactor)-[:FROM_CHUNK]->(:Chunk)\n",
      "(:StockType)-[:FROM_CHUNK]->(:Chunk)\n",
      "(:TimePeriod)-[:FROM_CHUNK]->(:Chunk)\n",
      "(:TimePeriod)-[:HAS_METRIC]->(:FinancialMetric)\n",
      "(:Transaction)-[:FROM_CHUNK]->(:Chunk)\n",
      "(:Transaction)-[:MENTIONS]->(:TimePeriod)\n",
      "(:Transaction)-[:MENTIONS]->(:StockType)\n",
      "(:Transaction)-[:HAS_METRIC]->(:FinancialMetric)\n",
      "(:Location)-[:FROM_CHUNK]->(:Chunk)\n",
      "(:Location)-[:IN_COUNTRY]->(:Country)\n",
      "(:Country)-[:FROM_CHUNK]->(:Chunk)\n",
      "(:FundingRound)-[:FROM_CHUNK]->(:Chunk)\n",
      "(:FundingRound)-[:FUNDED_BY]->(:Company)\n"
     ]
    }
   ],
   "source": [
    "from neo4j_graphrag.schema import get_schema\n",
    "\n",
    "schema = get_schema(driver, database=NEO4J_DATABASE)\n",
    "\n",
    "print(schema)\n",
    "\n"
   ]
  },
  {
   "cell_type": "markdown",
   "id": "b1fd54d5",
   "metadata": {},
   "source": [
    "### Creating a retriever\n",
    "\n",
    "The `Text2CypherRetriever` retriever will use this schema to generate a Cypher statement"
   ]
  },
  {
   "cell_type": "code",
   "execution_count": 14,
   "id": "aa285bef",
   "metadata": {},
   "outputs": [],
   "source": [
    "from neo4j_graphrag.llm import OpenAILLM\n",
    "from neo4j_graphrag.retrievers import Text2CypherRetriever\n",
    "\n",
    "llm = OpenAILLM(model_name=\"gpt-4o\", model_params={\"temperature\": 0})\n",
    "\n",
    "text2cypher_retriever = Text2CypherRetriever(\n",
    "    llm=llm,\n",
    "    driver=driver,\n",
    "    neo4j_database=NEO4J_DATABASE,\n",
    "    neo4j_schema=schema\n",
    ")\n",
    "\n",
    "result = text2cypher_retriever.search(\"What are the top risk factors that APPLE INC faces?\")"
   ]
  },
  {
   "cell_type": "code",
   "execution_count": 15,
   "id": "433cada0",
   "metadata": {},
   "outputs": [
    {
     "name": "stdout",
     "output_type": "stream",
     "text": [
      "<Record riskFactor='Geography'>\n",
      "<Record riskFactor='Aggressive price competition'>\n",
      "<Record riskFactor='Frequent introduction of new products'>\n",
      "<Record riskFactor='Short product life cycles'>\n",
      "<Record riskFactor='Evolving industry standards'>\n",
      "<Record riskFactor='Commodity pricing fluctuations'>\n",
      "<Record riskFactor='Industry-wide shortage and significant commodity pricing fluctuations'>\n",
      "<Record riskFactor='Initial capacity constraints when new technologies are used'>\n",
      "<Record riskFactor='Availability of components at acceptable prices'>\n",
      "<Record riskFactor='Ability to extend or renew component supply agreements'>\n",
      "<Record riskFactor='Rapid technological advances in industry'>\n",
      "<Record riskFactor='Need to seek or renew licenses for third-party intellectual property'>\n",
      "<Record riskFactor='Potential workplace risks'>\n",
      "<Record riskFactor='General safety, security, and crisis management hazards'>\n",
      "<Record riskFactor='Risks in potentially high-hazard environments'>\n",
      "<Record riskFactor='Reputation, financial performance impact'>\n",
      "<Record riskFactor='Macroeconomic and Industry Risks'>\n",
      "<Record riskFactor='Adverse macroeconomic conditions'>\n",
      "<Record riskFactor='Political events, trade and other international disputes, war, terrorism, natural disasters, public health issues, industrial accidents and other business interruptions'>\n",
      "<Record riskFactor='interruptions in international commerce and the global economy'>\n",
      "<Record riskFactor='restrictions on international trade'>\n",
      "<Record riskFactor='political uncertainty'>\n",
      "<Record riskFactor='natural disasters'>\n",
      "<Record riskFactor='cybersecurity attacks'>\n",
      "<Record riskFactor='industrial accidents'>\n",
      "<Record riskFactor='global climate change'>\n",
      "<Record riskFactor='pandemics such as COVID-19'>\n",
      "<Record riskFactor='aggressive price competition'>\n",
      "<Record riskFactor='infringing on intellectual property'>\n",
      "<Record riskFactor='intense competition'>\n",
      "<Record riskFactor='frequent product introductions and transitions'>\n",
      "<Record riskFactor='dependence on outsourcing partners'>\n",
      "<Record riskFactor='diminished control over production and distribution'>\n",
      "<Record riskFactor='product defect liabilities'>\n",
      "<Record riskFactor='violations of supplier code of conduct'>\n",
      "<Record riskFactor='disruptions in manufacturing or logistics'>\n",
      "<Record riskFactor='financial problems of outsourcing partners or suppliers'>\n",
      "<Record riskFactor='significant supply and pricing risks'>\n",
      "<Record riskFactor='high demand and shortages in the global semiconductor industry'>\n",
      "<Record riskFactor='poor financial conditions of component suppliers'>\n",
      "<Record riskFactor='adverse economic conditions'>\n",
      "<Record riskFactor='supply shortages and price increases'>\n",
      "<Record riskFactor='design and manufacturing defects'>\n",
      "<Record riskFactor='product liability claims'>\n",
      "<Record riskFactor='write-downs on the value of inventory and other assets'>\n",
      "<Record riskFactor='product obsolescence'>\n",
      "<Record riskFactor='forecasting excess or insufficient components'>\n",
      "<Record riskFactor='infringement of intellectual property rights'>\n",
      "<Record riskFactor='availability of third-party software applications'>\n",
      "<Record riskFactor=\"Failure to obtain or create digital content that appeals to the Company's customers\">\n",
      "<Record riskFactor='Failure to make digital content available on commercially reasonable terms'>\n",
      "<Record riskFactor='Changes due to competition, market conditions, legal and regulatory requirements affecting the App Store'>\n",
      "<Record riskFactor='Litigation and investigations relating to the App Store'>\n",
      "<Record riskFactor='Reductions in the rate of commission or changes affecting commission scope or existence'>\n",
      "<Record riskFactor='Developers focusing efforts on competing platforms'>\n",
      "<Record riskFactor='Information technology system failures and network disruptions'>\n",
      "<Record riskFactor='Losses or unauthorized access to or releases of confidential information'>\n",
      "<Record riskFactor='Malicious attacks and unauthorized access attempts'>\n",
      "<Record riskFactor='malicious attacks'>\n",
      "<Record riskFactor='investment in new business strategies and acquisitions'>\n",
      "<Record riskFactor='risks and uncertainties related to retail operations'>\n",
      "<Record riskFactor='Legal and Regulatory Compliance Risks'>\n",
      "<Record riskFactor='Patent claims relating to cellular-enabled products'>\n",
      "<Record riskFactor='complex and changing laws and regulations'>\n",
      "<Record riskFactor='regulatory changes and other actions'>\n",
      "<Record riskFactor='expectations relating to environmental, social and governance considerations'>\n",
      "<Record riskFactor='intense media, political and regulatory scrutiny'>\n",
      "<Record riskFactor='antitrust investigations'>\n",
      "<Record riskFactor='environmental, social and governance considerations'>\n",
      "<Record riskFactor='Investigations and litigation'>\n",
      "<Record riskFactor='Compliance with data protection laws'>\n",
      "<Record riskFactor='Reputational impacts'>\n",
      "<Record riskFactor='Penalties and legal liability'>\n",
      "<Record riskFactor='Payment card data security standards compliance'>\n",
      "<Record riskFactor='pricing pressures and product pricing actions'>\n",
      "<Record riskFactor='supply shortages'>\n",
      "<Record riskFactor='potential increases in component costs'>\n",
      "<Record riskFactor='foreign exchange rate fluctuations'>\n",
      "<Record riskFactor='credit risk and fluctuations in the values of its investment portfolio'>\n",
      "<Record riskFactor='credit risk on its trade accounts receivable, vendor non-trade receivables and prepayments related to long-term supply agreements'>\n",
      "<Record riskFactor='exposure to credit and collectibility risk on its trade receivables'>\n",
      "<Record riskFactor='Credit risk'>\n",
      "<Record riskFactor='Tax rate changes'>\n",
      "<Record riskFactor='Tax liabilities'>\n",
      "<Record riskFactor='Volatility of stock price'>\n",
      "<Record riskFactor='macroeconomic conditions'>\n",
      "<Record riskFactor='uncertain tax positions'>\n",
      "<Record riskFactor='various legal proceedings and claims'>\n",
      "<Record riskFactor='market risk from interest rates and foreign exchange'>\n",
      "<Record riskFactor='Interest Rate Risk'>\n",
      "<Record riskFactor='Foreign Exchange Rate Risk'>\n",
      "<Record riskFactor='Economic conditions'>\n",
      "<Record riskFactor='Political conditions'>\n",
      "<Record riskFactor='Change in tax laws'>\n",
      "<Record riskFactor='Cyber-attacks'>\n",
      "<Record riskFactor='Product, system security, and data protection breaches'>\n",
      "<Record riskFactor='Supply-chain attacks'>\n",
      "<Record riskFactor='tax liabilities and tax-related factors'>\n",
      "<Record riskFactor='adverse changes in tax laws'>\n",
      "<Record riskFactor='effect of accounting for stock-based compensation and stock price volatility'>\n",
      "<Record riskFactor='Manufacturing and supply chain risks'>\n",
      "<Record riskFactor='Security breaches'>\n",
      "<Record riskFactor='Stock market fluctuations'>\n",
      "<Record riskFactor='Stock repurchase program volatility'>\n",
      "<Record riskFactor='Concentration of stock ownership'>\n",
      "<Record riskFactor='Charter provisions discouraging takeover'>\n"
     ]
    }
   ],
   "source": [
    "for item in result.items:\n",
    "    print(item.content)\n"
   ]
  },
  {
   "cell_type": "markdown",
   "id": "23dec322",
   "metadata": {},
   "source": [
    "The `GraphRAG` class creates a retrieval pipeline that accepts a user input, uses a retriever to fetch the context, and uses an LLM to generate an answer."
   ]
  },
  {
   "cell_type": "code",
   "execution_count": 40,
   "id": "b234759b",
   "metadata": {},
   "outputs": [
    {
     "name": "stdout",
     "output_type": "stream",
     "text": [
      "Apple Inc. faces several top risk factors, including:\n",
      "\n",
      "1. **Geography**: Risks related to different geographic markets.\n",
      "2. **Aggressive Price Competition**: Intense competition affecting pricing strategies.\n",
      "3. **Frequent Introduction of New Products**: The need to constantly innovate and release new products.\n",
      "4. **Short Product Life Cycles**: Rapid obsolescence of products.\n",
      "5. **Evolving Industry Standards**: Keeping up with changing industry norms.\n",
      "6. **Commodity Pricing Fluctuations**: Variability in the cost of raw materials.\n",
      "7. **Industry-wide Shortage and Significant Commodity Pricing Fluctuations**: Supply chain disruptions and cost issues.\n",
      "8. **Initial Capacity Constraints with New Technologies**: Challenges in scaling new technologies.\n",
      "9. **Availability of Components at Acceptable Prices**: Ensuring component supply at reasonable costs.\n",
      "10. **Rapid Technological Advances in Industry**: Keeping pace with technological changes.\n",
      "11. **Macroeconomic and Industry Risks**: Economic downturns and industry-specific challenges.\n",
      "12. **Adverse Macroeconomic Conditions**: Economic factors affecting business performance.\n",
      "13. **Political Events and International Disputes**: Geopolitical risks impacting operations.\n",
      "14. **Natural Disasters and Public Health Issues**: Events like pandemics affecting business continuity.\n",
      "15. **Cybersecurity Attacks**: Threats to data security and IT systems.\n",
      "16. **Dependence on Outsourcing Partners**: Reliance on third-party suppliers and manufacturers.\n",
      "17. **Product Defect Liabilities**: Risks associated with product quality and safety.\n",
      "18. **Legal and Regulatory Compliance Risks**: Navigating complex legal and regulatory environments.\n",
      "19. **Foreign Exchange Rate Fluctuations**: Impact of currency value changes on financial performance.\n",
      "20. **Tax Liabilities and Tax-related Factors**: Risks related to tax laws and liabilities.\n",
      "21. **Volatility of Stock Price**: Fluctuations in stock market affecting company valuation.\n",
      "22. **Supply-chain Attacks**: Risks of disruptions in the supply chain.\n",
      "23. **Security Breaches**: Threats to data and system security.\n",
      "\n",
      "These factors highlight the diverse challenges Apple Inc. must manage to maintain its market position and operational efficiency.\n"
     ]
    }
   ],
   "source": [
    "from neo4j_graphrag.generation import GraphRAG\n",
    "\n",
    "# Instantiate the RAG pipeline\n",
    "rag = GraphRAG(\n",
    "    retriever=text2cypher_retriever,\n",
    "    llm=llm\n",
    ")\n",
    "\n",
    "# Query the graph\n",
    "query = \"What are the top risk factors that APPLE INC faces?\"\n",
    "\n",
    "text2cypher_response = rag.search(query_text=query, return_context=True)\n",
    "\n",
    "print(text2cypher_response.answer)\n"
   ]
  },
  {
   "cell_type": "code",
   "execution_count": 39,
   "id": "fb310796",
   "metadata": {},
   "outputs": [
    {
     "name": "stdout",
     "output_type": "stream",
     "text": [
      "cypher\n",
      "MATCH (c:Company {name: \"Apple\"})-[:FACES_RISK]->(r:RiskFactor)\n",
      "RETURN r.name AS riskFactor\n",
      "ORDER BY r.name\n",
      "\n"
     ]
    }
   ],
   "source": [
    "print(text2cypher_response.retriever_result.metadata['cypher'])\n",
    "\n",
    "\n",
    "for item in text2cypher_response.retriever_result.items:\n",
    "    print(item.content)\n"
   ]
  },
  {
   "cell_type": "markdown",
   "id": "aea47be2",
   "metadata": {},
   "source": [
    "## Demo datasets\n",
    "\n",
    "Try running text-to-Cypher on a [demo dataset hosted on demo.neo4jlabs.com](https://demo.neo4jlabs.com/).  Use `neo4j+s://demo.neo4jlabs.com` as the connection URL and the dataset name as the username, password and database:\n",
    "\n",
    "* `recommendations`\n",
    "* `movies`\n",
    "* `northwind`\n",
    "* `fincen`\n",
    "* `twitter`\n",
    "* `stackoverflow`\n",
    "* `gameofthrones`\n",
    "* `gameofthrones`\n",
    "* `neoflix`\n",
    "* `wordnet`\n",
    "* `slack`\n",
    "\n"
   ]
  },
  {
   "cell_type": "code",
   "execution_count": 20,
   "id": "5d277103",
   "metadata": {},
   "outputs": [],
   "source": [
    "DEMO = 'northwind'\n",
    "\n",
    "got_driver = GraphDatabase.driver(\n",
    "    \"neo4j+s://demo.neo4jlabs.com\",\n",
    "    auth=(DEMO, DEMO)\n",
    ")\n",
    "\n",
    "got_driver.verify_connectivity()\n"
   ]
  },
  {
   "cell_type": "code",
   "execution_count": 23,
   "id": "dbaf8a0c",
   "metadata": {},
   "outputs": [],
   "source": [
    "got_text2cypher_retriever = Text2CypherRetriever(\n",
    "    llm=llm,\n",
    "    driver=got_driver,\n",
    "    neo4j_database=DEMO,\n",
    "    neo4j_schema=get_schema(got_driver, database=DEMO)\n",
    ")\n",
    "\n",
    "got_result = got_text2cypher_retriever.search(\"What are the top grossing products??\")"
   ]
  },
  {
   "cell_type": "code",
   "execution_count": 28,
   "id": "e5e7c7a4",
   "metadata": {},
   "outputs": [
    {
     "name": "stdout",
     "output_type": "stream",
     "text": [
      "MATCH (:Order)-[o:ORDERS]->(p:Product)\n",
      "RETURN p.productName, SUM(toFloat(o.unitPrice) * o.quantity * (1 - toFloat(o.discount))) AS totalRevenue\n",
      "ORDER BY totalRevenue DESC\n",
      "LIMIT 10\n"
     ]
    },
    {
     "data": {
      "text/plain": [
       "[RetrieverResultItem(content=\"<Record p.productName='Côte de Blaye' totalRevenue=141396.735>\", metadata=None),\n",
       " RetrieverResultItem(content=\"<Record p.productName='Thüringer Rostbratwurst' totalRevenue=80368.672>\", metadata=None),\n",
       " RetrieverResultItem(content=\"<Record p.productName='Raclette Courdavault' totalRevenue=71155.70000000001>\", metadata=None),\n",
       " RetrieverResultItem(content=\"<Record p.productName='Tarte au sucre' totalRevenue=47234.97>\", metadata=None),\n",
       " RetrieverResultItem(content=\"<Record p.productName='Camembert Pierrot' totalRevenue=46825.479999999996>\", metadata=None),\n",
       " RetrieverResultItem(content=\"<Record p.productName='Gnocchi di nonna Alice' totalRevenue=42593.06>\", metadata=None),\n",
       " RetrieverResultItem(content=\"<Record p.productName='Manjimup Dried Apples' totalRevenue=41819.65>\", metadata=None),\n",
       " RetrieverResultItem(content=\"<Record p.productName='Alice Mutton' totalRevenue=32698.379999999997>\", metadata=None),\n",
       " RetrieverResultItem(content=\"<Record p.productName='Carnarvon Tigers' totalRevenue=29171.875>\", metadata=None),\n",
       " RetrieverResultItem(content=\"<Record p.productName='Rössle Sauerkraut' totalRevenue=25696.640000000007>\", metadata=None)]"
      ]
     },
     "execution_count": 28,
     "metadata": {},
     "output_type": "execute_result"
    }
   ],
   "source": [
    "print(got_result.metadata['cypher'])\n",
    "\n",
    "got_result.items"
   ]
  },
  {
   "cell_type": "code",
   "execution_count": null,
   "id": "4e5cf292",
   "metadata": {},
   "outputs": [],
   "source": []
  }
 ],
 "metadata": {
  "kernelspec": {
   "display_name": ".venv",
   "language": "python",
   "name": "python3"
  },
  "language_info": {
   "codemirror_mode": {
    "name": "ipython",
    "version": 3
   },
   "file_extension": ".py",
   "mimetype": "text/x-python",
   "name": "python",
   "nbconvert_exporter": "python",
   "pygments_lexer": "ipython3",
   "version": "3.13.3"
  }
 },
 "nbformat": 4,
 "nbformat_minor": 5
}
