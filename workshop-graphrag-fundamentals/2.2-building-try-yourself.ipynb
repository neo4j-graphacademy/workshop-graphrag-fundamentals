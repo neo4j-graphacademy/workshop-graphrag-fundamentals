{
 "cells": [
  {
   "cell_type": "code",
   "execution_count": null,
   "id": "32242870",
   "metadata": {},
   "outputs": [],
   "source": [
    "%pip install \"neo4j_graphrag[openai]\""
   ]
  },
  {
   "cell_type": "markdown",
   "id": "e4f70f62",
   "metadata": {},
   "source": [
    "## Setup"
   ]
  },
  {
   "cell_type": "code",
   "execution_count": 6,
   "id": "95c11aaf",
   "metadata": {},
   "outputs": [
    {
     "name": "stdout",
     "output_type": "stream",
     "text": [
      "The dotenv extension is already loaded. To reload it, use:\n",
      "  %reload_ext dotenv\n"
     ]
    }
   ],
   "source": [
    "%load_ext dotenv\n",
    "%dotenv\n",
    "\n",
    "from os import getenv\n",
    "\n",
    "NEO4J_URL = getenv(\"NEO4J_URI\") or \"neo4j://localhost:7687\"\n",
    "NEO4J_USERNAME = getenv(\"NEO4J_USERNAME\") or \"neo4j\"\n",
    "NEO4J_PASSWORD = getenv(\"NEO4J_PASSWORD\") or \"neoneoneo\"\n",
    "NEO4J_DATABASE = getenv(\"NEO4J_DATABASE\") or \"neo4j\"\n",
    "\n",
    "from neo4j import GraphDatabase\n",
    "\n",
    "driver = GraphDatabase.driver(\n",
    "    NEO4J_URL,\n",
    "    auth=(NEO4J_USERNAME, NEO4J_PASSWORD)\n",
    ")\n",
    "\n",
    "driver.verify_connectivity() # Throws an error if the connection is not successful\n"
   ]
  },
  {
   "cell_type": "markdown",
   "id": "fd72ec73",
   "metadata": {},
   "source": [
    "## Define your entities and relations\n",
    "\n",
    "You can define a simple list of entities and relationships and a tuple of patterns:\n"
   ]
  },
  {
   "cell_type": "code",
   "execution_count": 7,
   "id": "2e3685cb",
   "metadata": {},
   "outputs": [],
   "source": [
    "# List the entities and relations the LLM should look for in the text\n",
    "node_types = [\"Company\", \"Location\", \"Country\"]\n",
    "relationship_types = [\"LOCATED_IN\", \"IN_COUNTRY\", \"FUNDED_BY\"]\n",
    "patterns = [\n",
    "    (\"Company\", \"LOCATED_IN\", \"Location\"),\n",
    "    (\"Location\", \"IN_COUNTRY\", \"Country\"),\n",
    "    (\"Company\", \"FUNDED_BY\", \"Company\"),\n",
    "]"
   ]
  },
  {
   "cell_type": "markdown",
   "id": "65cb0597",
   "metadata": {},
   "source": [
    "Or you can be more accurate and define the entities and relationships "
   ]
  },
  {
   "cell_type": "code",
   "execution_count": 8,
   "id": "fe1992d7",
   "metadata": {},
   "outputs": [],
   "source": [
    "entities = [\n",
    "  {\n",
    "    \"label\": \"Company\",\n",
    "    \"properties\": [\n",
    "      {\"name\": \"id\", \"type\": \"STRING\", \"description\": \"The unique identifier for the company in lower-kebab-case.  For example, acme-industries-llc\"},\n",
    "      {\"name\": \"name\", \"type\": \"STRING\"}\n",
    "    ]\n",
    "  },\n",
    "  {\n",
    "    \"label\": \"Location\",\n",
    "    \"properties\": [\n",
    "      {\"name\": \"name\", \"type\": \"STRING\"}\n",
    "    ]\n",
    "  },\n",
    "  {\n",
    "    \"label\": \"Country\",\n",
    "    \"properties\": [\n",
    "      {\"name\": \"name\", \"type\": \"STRING\"}\n",
    "    ]\n",
    "  },\n",
    "  {\n",
    "    \"label\": \"FundingRound\",\n",
    "    \"properties\": [\n",
    "      {\"name\": \"id\", \"type\": \"STRING\", \"description\": \"The unique identifier for the funding round consisting of the company name and series in lower-kebab-case.  For example, neo4j-series-a-2024\"},\n",
    "      {\"name\": \"series\", \"type\": \"STRING\"},\n",
    "      {\"name\": \"amount\", \"type\": \"FLOAT\"},\n",
    "    ]\n",
    "  },\n",
    "]\n",
    "\n",
    "relations = [\n",
    "    { \"source\": \"Company\", \"target\": \"Location\", \"label\": \"LOCATED_IN\" },\n",
    "    { \"source\": \"Location\", \"target\": \"Country\", \"label\": \"IN_COUNTRY\" },\n",
    "    { \"source\": \"Company\", \"target\": \"Company\", \"label\": \"HAS_FUNDING_ROUND\" },\n",
    "    { \"source\": \"FundingRound\", \"target\": \"Company\", \"label\": \"FUNDED_BY\", \"properties\": [\n",
    "      {\"name\": \"date\", \"type\": \"DATE\"}, {\"name\": \"amount\", \"type\": \"FLOAT\"},\n",
    "    ] },\n",
    "]"
   ]
  },
  {
   "cell_type": "markdown",
   "id": "fd3860f8",
   "metadata": {},
   "source": [
    "## Specific Prompt Templates\n",
    "\n",
    "You can define a specific prompt template to define"
   ]
  },
  {
   "cell_type": "code",
   "execution_count": 9,
   "id": "b988c3ce",
   "metadata": {},
   "outputs": [],
   "source": [
    "from neo4j_graphrag.experimental.pipeline.kg_builder import ERExtractionTemplate\n",
    "\n",
    "approved_companies = [\"Neo4j\", \"Greenbridge Partners\", \"One Peak Partners\"]\n",
    "\n",
    "# --- Establish Prompt Template for KG Builder ---\n",
    "joined_names = '\\n'.join(f'- {name}' for name in approved_companies)\n",
    "\n",
    "company_instruction = (\n",
    "    \"Extract only information about the following companies. \"\n",
    "    \"If a company is mentioned but is not in this list, ignore it. \"\n",
    "    \"When extracting, the company name must match exactly as shown below. \"\n",
    "    \"Do not generate or include any company not on this list or an alternate name for any company on this list. \"\n",
    "    \"ONLY USE THE COMPANY NAME EXACTLY AS SHOWN IN THE LIST. \"\n",
    "    \"If the text refers to 'the Company', 'the Registrant', or uses a pronoun or generic phrase instead of a company name, \"\n",
    "    \"you MUST look up and use the exact company name from the allowed list based on context (such as the file being processed). \"\n",
    "    \"UNDER NO CIRCUMSTANCES should you output 'the Company', 'the Registrant', or any generic phrase as a company name. \"\n",
    "    \"Only use the exact allowed company name.\\n\\n\"\n",
    "    f\"Allowed Companies (match exactly):\\n{joined_names}\\n\\n\"\n",
    ")\n",
    "\n",
    "custom_template = company_instruction + ERExtractionTemplate.DEFAULT_TEMPLATE\n",
    "prompt_template = ERExtractionTemplate(template=custom_template)"
   ]
  },
  {
   "cell_type": "markdown",
   "id": "bb2dcdc5",
   "metadata": {},
   "source": [
    "## Create the pipeline using `SimpleKGPipeline`"
   ]
  },
  {
   "cell_type": "code",
   "execution_count": null,
   "id": "be558829",
   "metadata": {},
   "outputs": [],
   "source": [
    "from neo4j import GraphDatabase\n",
    "from neo4j_graphrag.embeddings import OpenAIEmbeddings\n",
    "from neo4j_graphrag.experimental.pipeline.kg_builder import SimpleKGPipeline\n",
    "from neo4j_graphrag.llm import OpenAILLM\n",
    "\n",
    "\n",
    "# Connect to the Neo4j database\n",
    "driver = GraphDatabase.driver(\n",
    "    NEO4J_URL,\n",
    "    auth=(\n",
    "        NEO4J_USERNAME, NEO4J_PASSWORD\n",
    "    )\n",
    ")\n",
    "\n",
    "\n",
    "# Create an Embedder object\n",
    "embedder = OpenAIEmbeddings(model=\"text-embedding-3-large\")\n",
    "\n",
    "# Instantiate the LLM\n",
    "llm = OpenAILLM(\n",
    "    model_name=\"gpt-4o\",\n",
    "    model_params={\n",
    "        \"max_tokens\": 2000,\n",
    "        \"response_format\": {\"type\": \"json_object\"},\n",
    "        \"temperature\": 0,\n",
    "    },\n",
    ")\n",
    "\n",
    "# Instantiate the SimpleKGPipeline\n",
    "kg_builder = SimpleKGPipeline(\n",
    "    llm=llm,\n",
    "    driver=driver,\n",
    "    neo4j_database=NEO4J_DATABASE,\n",
    "    embedder=embedder,\n",
    "    prompt_template=prompt_template,\n",
    "    entities=entities,\n",
    "    relations=relations,\n",
    "    from_pdf=False,\n",
    ")\n"
   ]
  },
  {
   "cell_type": "code",
   "execution_count": 11,
   "id": "ce8583c4",
   "metadata": {},
   "outputs": [],
   "source": [
    "# Run the pipeline on a piece of text\n",
    "text = \"\"\"\n",
    "Neo4j is developed by Neo4j, Inc., based in San Mateo, California, United States and Malmö, Sweden.\n",
    "\n",
    "In November 2016, Neo4j successfully secured $36M in Series D Funding led by Greenbridge Partners Ltd.[14]\n",
    "\n",
    "In November 2018, Neo4j successfully secured $80M in Series E Funding led by One Peak Partners and Morgan Stanley Expansion Capital, with participation from other investors including Creandum, Eight Roads and Greenbridge Partners.[15]\n",
    "\n",
    "In June 2021, Neo4j announced another round of funding, $325M in Series F, led by Eurazeo and GV (Alphabet’s venture capital arm), which valued the company at over $2 billion making the company one of the best funded database companies.[16][17]\n",
    "\n",
    "In late 2024, the company began preparations for an initial public offering (IPO) on the Nasdaq stock exchange, although the timing of the IPO will be dependent on broader market conditions.[18]\n",
    "\"\"\"\n",
    "\n",
    "res = await kg_builder.run_async(text=text)\n"
   ]
  },
  {
   "cell_type": "code",
   "execution_count": 12,
   "id": "abc46172",
   "metadata": {},
   "outputs": [
    {
     "data": {
      "text/plain": [
       "{'resolver': {'number_of_nodes_to_resolve': 9, 'number_of_created_nodes': 7}}"
      ]
     },
     "execution_count": 12,
     "metadata": {},
     "output_type": "execute_result"
    }
   ],
   "source": [
    "res.result"
   ]
  },
  {
   "cell_type": "markdown",
   "id": "fd760ccc",
   "metadata": {},
   "source": [
    "## Bonus: Automatic schema construction\n",
    "\n",
    "The `SchemaFromTextExtractor` will use an LLM to examine a piece of text and return a list of node types, relationship types and patterns."
   ]
  },
  {
   "cell_type": "code",
   "execution_count": 15,
   "id": "add9c2f9",
   "metadata": {},
   "outputs": [],
   "source": [
    "from neo4j_graphrag.experimental.components.schema import SchemaFromTextExtractor\n",
    "from neo4j_graphrag.llm import OpenAILLM\n",
    "\n",
    "# Instantiate the automatic schema extractor component\n",
    "schema_extractor = SchemaFromTextExtractor(\n",
    "    llm=OpenAILLM(\n",
    "        model_name=\"gpt-4o\",\n",
    "        model_params={\n",
    "            \"max_tokens\": 2000,\n",
    "            \"response_format\": {\"type\": \"json_object\"},\n",
    "        },\n",
    "    )\n",
    ")\n",
    "\n",
    "dont_stop_believin = \"\"\"\n",
    "She's just a small town girl\n",
    "Living in a lonely world\n",
    "She took the midnight train going anywhere\n",
    "Just a city boy\n",
    "Born and raised in south Detroit\n",
    "She took the midnight train going anywhere\n",
    "\"\"\"\n",
    "\n",
    "# Extract the schema from the text\n",
    "extracted_schema = await schema_extractor.run(text=dont_stop_believin)"
   ]
  },
  {
   "cell_type": "code",
   "execution_count": 16,
   "id": "c2b6c2d0",
   "metadata": {},
   "outputs": [
    {
     "data": {
      "text/plain": [
       "(NodeType(label='Person', description='', properties=[], additional_properties=True),\n",
       " NodeType(label='Train', description='', properties=[], additional_properties=True))"
      ]
     },
     "execution_count": 16,
     "metadata": {},
     "output_type": "execute_result"
    }
   ],
   "source": [
    "extracted_schema.node_types"
   ]
  },
  {
   "cell_type": "code",
   "execution_count": 17,
   "id": "234f777b",
   "metadata": {},
   "outputs": [
    {
     "data": {
      "text/plain": [
       "(RelationshipType(label='TAKES', description='', properties=[], additional_properties=True),)"
      ]
     },
     "execution_count": 17,
     "metadata": {},
     "output_type": "execute_result"
    }
   ],
   "source": [
    "extracted_schema.relationship_types"
   ]
  },
  {
   "cell_type": "code",
   "execution_count": 18,
   "id": "0d6775d6",
   "metadata": {},
   "outputs": [
    {
     "data": {
      "text/plain": [
       "(('Person', 'TAKES', 'Train'),)"
      ]
     },
     "execution_count": 18,
     "metadata": {},
     "output_type": "execute_result"
    }
   ],
   "source": [
    "extracted_schema.patterns"
   ]
  },
  {
   "cell_type": "code",
   "execution_count": null,
   "id": "059f64c2",
   "metadata": {},
   "outputs": [],
   "source": []
  }
 ],
 "metadata": {
  "kernelspec": {
   "display_name": ".venv",
   "language": "python",
   "name": "python3"
  },
  "language_info": {
   "codemirror_mode": {
    "name": "ipython",
    "version": 3
   },
   "file_extension": ".py",
   "mimetype": "text/x-python",
   "name": "python",
   "nbconvert_exporter": "python",
   "pygments_lexer": "ipython3",
   "version": "3.13.3"
  }
 },
 "nbformat": 4,
 "nbformat_minor": 5
}
