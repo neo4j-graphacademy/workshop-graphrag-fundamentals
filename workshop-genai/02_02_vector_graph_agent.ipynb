{
 "cells": [
  {
   "cell_type": "markdown",
   "id": "464e24a5",
   "metadata": {},
   "source": [
    "# Vector + Graph Retriever Agent\n",
    "\n",
    "You will modify the agent to include an additional tool that:\n",
    "\n",
    "1. Searches the documents using the vector index\n",
    "2. Traverses the graph around the document to find other facts\n",
    "\n",
    "***"
   ]
  },
  {
   "cell_type": "markdown",
   "id": "82202731",
   "metadata": {},
   "source": [
    "Load the environment variables, create the `model`, connect to the Neo4j `graph` database, and create the `get_schema` tool."
   ]
  },
  {
   "cell_type": "code",
   "execution_count": null,
   "id": "ad9da392",
   "metadata": {},
   "outputs": [],
   "source": [
    "import os\n",
    "from dotenv import load_dotenv\n",
    "load_dotenv()\n",
    "\n",
    "from langchain.chat_models import init_chat_model\n",
    "from langgraph.prebuilt import create_react_agent\n",
    "from langchain_core.tools import tool\n",
    "from langchain_neo4j import Neo4jGraph, Neo4jVector\n",
    "from langchain_openai import OpenAIEmbeddings\n",
    "\n",
    "# Initialize the LLM\n",
    "model = init_chat_model(\"gpt-4o\", model_provider=\"openai\")\n",
    "\n",
    "# Connect to Neo4j\n",
    "graph = Neo4jGraph(\n",
    "    url=os.getenv(\"NEO4J_URI\"),\n",
    "    username=os.getenv(\"NEO4J_USERNAME\"), \n",
    "    password=os.getenv(\"NEO4J_PASSWORD\"),\n",
    ")\n",
    "\n",
    "# Define functions for each tool in the agent\n",
    "\n",
    "@tool(\"Get-graph-database-schema\")\n",
    "def get_schema():\n",
    "    \"\"\"Get the schema of the graph database.\"\"\"\n",
    "    context = graph.schema\n",
    "    return context"
   ]
  },
  {
   "cell_type": "markdown",
   "id": "032d0d07",
   "metadata": {},
   "source": [
    "To use the vector index, you will need to create an embedding model to convert user's queries into embeddings."
   ]
  },
  {
   "cell_type": "code",
   "execution_count": null,
   "id": "99719e2d",
   "metadata": {},
   "outputs": [],
   "source": [
    "# Create the embedding model\n",
    "embedding_model = OpenAIEmbeddings(model=\"text-embedding-ada-002\")"
   ]
  },
  {
   "cell_type": "markdown",
   "id": "aeaf1754",
   "metadata": {},
   "source": [
    "To retrieve data from the graph after documents have been found, you can define a `retrieval_query`."
   ]
  },
  {
   "cell_type": "code",
   "execution_count": null,
   "id": "a138296c",
   "metadata": {},
   "outputs": [],
   "source": [
    "retrieval_query = \"\"\"\n",
    "MATCH (node)-[:FROM_DOCUMENT]-(doc:Document)-[:FILED]-(company:Company)\n",
    "RETURN \n",
    "    node.text as text,\n",
    "    score,\n",
    "    {\n",
    "        company: company.name,\n",
    "        risks: [ (company:Company)-[:FACES_RISK]->(risk:RiskFactor) | risk.name ]\n",
    "    } AS metadata\n",
    "ORDER BY score DESC\n",
    "\"\"\""
   ]
  },
  {
   "cell_type": "markdown",
   "id": "dd3f3590",
   "metadata": {},
   "source": [
    "> This query retrieves the `Company` the `Document` relates to and any associated `RiskFactor` nodes.\n",
    "\n",
    "***"
   ]
  },
  {
   "cell_type": "markdown",
   "id": "697b1edd",
   "metadata": {},
   "source": [
    "Create the vector index to search the `chunkEmbeddings` and include the `retrieval_query`."
   ]
  },
  {
   "cell_type": "code",
   "execution_count": null,
   "id": "97c8658f",
   "metadata": {},
   "outputs": [],
   "source": [
    "# Create vector index\n",
    "chunk_vector = Neo4jVector.from_existing_index(\n",
    "    embedding_model,\n",
    "    graph=graph,\n",
    "    index_name=\"chunkEmbeddings\",\n",
    "    embedding_node_property=\"embedding\",\n",
    "    text_node_property=\"text\",\n",
    "    retrieval_query=retrieval_query,\n",
    ")"
   ]
  },
  {
   "cell_type": "markdown",
   "id": "6d909e9a",
   "metadata": {},
   "source": [
    "Create a new tool to `Retrieve-financial-documents` that searches the `chunk_vector`."
   ]
  },
  {
   "cell_type": "code",
   "execution_count": null,
   "id": "1083a562",
   "metadata": {},
   "outputs": [],
   "source": [
    "# Define a tool to retrieve financial documents\n",
    "@tool(\"Retrieve-financial-documents\")\n",
    "def retrieve_docs(query: str):\n",
    "    \"\"\"Find details about companies in their financial documents.\"\"\"\n",
    "    # Use the vector to find relevant documents\n",
    "    context = chunk_vector.similarity_search(\n",
    "        query, \n",
    "        k=3,\n",
    "    )\n",
    "    return context"
   ]
  },
  {
   "cell_type": "markdown",
   "id": "892af9d9",
   "metadata": {},
   "source": [
    "> The agent will use the tool's name and docstring to determine if it is needed.\n",
    "\n",
    "***"
   ]
  },
  {
   "cell_type": "markdown",
   "id": "a5ea644c",
   "metadata": {},
   "source": [
    "Create the agent `tools` and the `agent`."
   ]
  },
  {
   "cell_type": "code",
   "execution_count": null,
   "id": "e4f9c4d8",
   "metadata": {},
   "outputs": [],
   "source": [
    "# Add the tools to the agent\n",
    "tools = [get_schema, retrieve_docs]\n",
    "\n",
    "agent = create_react_agent(\n",
    "    model, \n",
    "    tools\n",
    ")"
   ]
  },
  {
   "cell_type": "markdown",
   "id": "b507a7a7",
   "metadata": {},
   "source": [
    "> The agent has access to the `get-schema` and `retrieve_docs` tools. The agent will pick between them when processing the user's query.\n",
    "\n",
    "***"
   ]
  },
  {
   "cell_type": "markdown",
   "id": "54a0a6a2",
   "metadata": {},
   "source": [
    "Create a query, run the agent, and stream the results."
   ]
  },
  {
   "cell_type": "code",
   "execution_count": null,
   "id": "a91fdcda",
   "metadata": {},
   "outputs": [],
   "source": [
    "query = \"Summarise what risk factors are mentioned in Apple's financial documents?\"\n",
    "\n",
    "for step in agent.stream(\n",
    "    {\n",
    "        \"messages\": [{\"role\": \"user\", \"content\": query}]\n",
    "    },\n",
    "    stream_mode=\"values\",\n",
    "):\n",
    "    step[\"messages\"][-1].pretty_print()"
   ]
  },
  {
   "cell_type": "markdown",
   "id": "07d17354",
   "metadata": {},
   "source": [
    "Experiment with the agent, ask different questions about the documents and the graph schema, for example:\n",
    "\n",
    "* Summarize the schema of the graph database.\n",
    "* What are the main risk factors mentioned in the documents?\n",
    "* Tell me about cybersecurity threats in financial services\n",
    "* What products does Microsoft mention in its financial documents?\n",
    "* How are companies connected through their mentioned products?\n",
    "* What type of questions can I ask about Apple using the graph database?\n",
    "\n",
    "> The agent will pick different tools depending on the task.\n",
    "\n",
    "***\n",
    "\n",
    "Try modifying the `retrieval_query` to pull back additional data about the `Company` such as:\n",
    "\n",
    "* Asset managers - `(company:Company)<-[:OWNS]-(manager:AssetManager)`\n",
    "* Financial metrics - `(company:Company)-[:HAS_METRIC]->(metric:FinancialMetric)`\n",
    "* Products - `(company:Company)-[:MENTIONS]->(product:Product)`\n",
    "\n",
    "Including additional context will help the agent to create more specific responses.\n",
    "\n",
    "***\n",
    "\n",
    "[View the complete code](solutions/02_02_vector_graph_agent.py)"
   ]
  }
 ],
 "metadata": {
  "language_info": {
   "name": "python"
  }
 },
 "nbformat": 4,
 "nbformat_minor": 5
}
