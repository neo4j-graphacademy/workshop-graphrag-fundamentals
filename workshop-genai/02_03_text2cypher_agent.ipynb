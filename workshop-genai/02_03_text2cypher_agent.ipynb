{
 "cells": [
  {
   "cell_type": "markdown",
   "id": "583cd26f",
   "metadata": {},
   "source": [
    "# Multi-tool Agent\n",
    "\n",
    "You will modify the agent to add a _Text to Cypher_ retriever tool.\n",
    "\n",
    "The Text to Cypher tool will allow the agent to create queries to retrieve more specific information such as facts and figures.\n",
    "\n",
    "***"
   ]
  },
  {
   "cell_type": "markdown",
   "id": "a032db81",
   "metadata": {},
   "source": [
    "Load the environment variables, import the required Python modules, and create the retrieve financial documents tool."
   ]
  },
  {
   "cell_type": "code",
   "execution_count": null,
   "id": "a0d9383a",
   "metadata": {},
   "outputs": [],
   "source": [
    "import os\n",
    "from dotenv import load_dotenv\n",
    "load_dotenv()\n",
    "\n",
    "from langchain.chat_models import init_chat_model\n",
    "from langgraph.prebuilt import create_react_agent\n",
    "from langchain_core.tools import tool\n",
    "from langchain_neo4j import Neo4jGraph, Neo4jVector, GraphCypherQAChain\n",
    "from langchain_openai import OpenAIEmbeddings\n",
    "from langchain_core.prompts import PromptTemplate\n",
    "\n",
    "# Initialize the LLM\n",
    "model = init_chat_model(\"gpt-4o\", model_provider=\"openai\")\n",
    "\n",
    "# Create the embedding model\n",
    "embedding_model = OpenAIEmbeddings(model=\"text-embedding-ada-002\")\n",
    "\n",
    "# Connect to Neo4j\n",
    "graph = Neo4jGraph(\n",
    "    url=os.getenv(\"NEO4J_URI\"),\n",
    "    username=os.getenv(\"NEO4J_USERNAME\"), \n",
    "    password=os.getenv(\"NEO4J_PASSWORD\"),\n",
    ")\n",
    "\n",
    "# Define the retrieval query\n",
    "retrieval_query = \"\"\"\n",
    "MATCH (node)-[:FROM_DOCUMENT]-(doc:Document)-[:FILED]-(company:Company)\n",
    "RETURN \n",
    "    node.text as text,\n",
    "    score,\n",
    "    {\n",
    "        company: company.name,\n",
    "        risks: [ (company:Company)-[:FACES_RISK]->(risk:RiskFactor) | risk.name ]\n",
    "    } AS metadata\n",
    "ORDER BY score DESC\n",
    "\"\"\"\n",
    "\n",
    "# Create Vector\n",
    "chunk_vector = Neo4jVector.from_existing_index(\n",
    "    embedding_model,\n",
    "    graph=graph,\n",
    "    index_name=\"chunkEmbeddings\",\n",
    "    embedding_node_property=\"embedding\",\n",
    "    text_node_property=\"text\",\n",
    "    retrieval_query=retrieval_query,\n",
    ")\n",
    "\n",
    "# Define functions for each tool in the agent\n",
    "\n",
    "@tool(\"Get-graph-database-schema\")\n",
    "def get_schema():\n",
    "    \"\"\"Get the schema of the graph database.\"\"\"\n",
    "    context = graph.schema\n",
    "    return context\n",
    "\n",
    "@tool(\"Retrieve-financial-documents\")\n",
    "def retrieve_docs(query: str):\n",
    "    \"\"\"Find details about companies in their financial documents.\"\"\"\n",
    "    # Use the vector to find relevant documents\n",
    "    context = chunk_vector.similarity_search(\n",
    "        query, \n",
    "        k=3,\n",
    "    )\n",
    "    return context"
   ]
  },
  {
   "cell_type": "markdown",
   "id": "fb79e607",
   "metadata": {},
   "source": [
    "The Text to Cypher tool can use a separate LLM to generate the Cypher. This is useful as different models and settings are more effective at generating Cypher.\n",
    "\n",
    "***\n",
    "\n",
    "Create a `cypher_model` with a `temperature` of `0.0`."
   ]
  },
  {
   "cell_type": "code",
   "execution_count": null,
   "id": "d0c0b83a",
   "metadata": {},
   "outputs": [],
   "source": [
    "# Create a separate model for Cypher generation\n",
    "cypher_model = init_chat_model(\n",
    "    \"gpt-4o\", \n",
    "    model_provider=\"openai\",\n",
    "    temperature=0.0\n",
    ")"
   ]
  },
  {
   "cell_type": "markdown",
   "id": "633522c5",
   "metadata": {},
   "source": [
    "The Text to Cypher tool requires a prompt which instructs the LLM on how to generate the Cypher.\n",
    "\n",
    "***\n",
    "\n",
    "Create a `cypher_template` which accepts the graph `schema` and the user's `question`."
   ]
  },
  {
   "cell_type": "code",
   "execution_count": null,
   "id": "f9b894ff",
   "metadata": {},
   "outputs": [],
   "source": [
    "# Create a cypher generation prompt\n",
    "cypher_template = \"\"\"Task:Generate Cypher statement to query a graph database.\n",
    "Instructions:\n",
    "Use only the provided relationship types and properties in the schema.\n",
    "Do not use any other relationship types or properties that are not provided.\n",
    "\n",
    "Use `WHERE tolower(node.name) CONTAINS toLower('name')` to filter nodes by name.\n",
    "\n",
    "Schema:\n",
    "{schema}\n",
    "\n",
    "Note: Do not include any explanations or apologies in your responses.\n",
    "Do not respond to any questions that might ask anything else than for you to construct a Cypher statement.\n",
    "Do not include any text except the generated Cypher statement.\n",
    "\n",
    "The question is:\n",
    "{question}\"\"\""
   ]
  },
  {
   "cell_type": "markdown",
   "id": "d7a41340",
   "metadata": {},
   "source": [
    "The prompt can include specific instructions on how to generate Cypher, for example, this instruction:\n",
    "\n",
    "> Use `WHERE tolower(node.name) CONTAINS toLower('name')` to filter nodes by name.\n",
    "\n",
    "... tells the LLM to use case insensitive and wild card matching when searching by company name.\n",
    "\n",
    "***"
   ]
  },
  {
   "cell_type": "markdown",
   "id": "254f6ba0",
   "metadata": {},
   "source": [
    "Create a `cypher_prompt` using the template you just created."
   ]
  },
  {
   "cell_type": "code",
   "execution_count": null,
   "id": "f91ac2d1",
   "metadata": {},
   "outputs": [],
   "source": [
    "cypher_prompt = PromptTemplate(\n",
    "    input_variables=[\"schema\", \"question\"], \n",
    "    template=cypher_template\n",
    ")"
   ]
  },
  {
   "cell_type": "markdown",
   "id": "f35380bf",
   "metadata": {},
   "source": [
    "Create a Cypher QA (question/answer) chain using the `cypher_model` and `cypher_prompt`."
   ]
  },
  {
   "cell_type": "code",
   "execution_count": null,
   "id": "aa8de9e1",
   "metadata": {},
   "outputs": [],
   "source": [
    "# Create the Cypher QA chain\n",
    "cypher_qa = GraphCypherQAChain.from_llm(\n",
    "    graph=graph, \n",
    "    llm=model,\n",
    "    cypher_llm=cypher_model,\n",
    "    cypher_prompt=cypher_prompt,\n",
    "    allow_dangerous_requests=True,\n",
    "    return_direct=True,\n",
    "    verbose=True\n",
    ")"
   ]
  },
  {
   "cell_type": "markdown",
   "id": "bd2de2eb",
   "metadata": {},
   "source": [
    "The `return_direct` flag instructs the `cypher_qa` chain to return just the output of the Cypher query. \n",
    "\n",
    "Setting `verbose` will output the generated Cypher so you can see the results.\n",
    "\n",
    "<div class=\"alert alert-block alert-warning\">\n",
    "<b>Allow Dangerous Requests</b><br/>\n",
    "You are trusting the generation of Cypher to the LLM.\n",
    "It may generate invalid Cypher queries that could corrupt data in the graph or provide access to sensitive information.\n",
    "\n",
    "You have to opt-in to this risk by setting the `allow_dangerous_requests` flag to `True`.\n",
    "\n",
    "In a production environment, you should ensure that access to data is limited, and sufficient security is in place to prevent malicious queries. \n",
    "</div>\n",
    "\n",
    "***"
   ]
  },
  {
   "cell_type": "markdown",
   "id": "ed9d6f83",
   "metadata": {},
   "source": [
    "Create a new tool to `Query-database` that uses the `cypher_qa` chain."
   ]
  },
  {
   "cell_type": "code",
   "execution_count": null,
   "id": "36f5e29e",
   "metadata": {},
   "outputs": [],
   "source": [
    "@tool(\"Query-database\")\n",
    "def query_database(query: str):\n",
    "    \"\"\"Get answers to specific questions about companies, risks, and financial metrics.\"\"\"\n",
    "    context = cypher_qa.invoke(\n",
    "        {\"query\": query}\n",
    "    )\n",
    "    return {\"context\": context}"
   ]
  },
  {
   "cell_type": "markdown",
   "id": "4fb9a80f",
   "metadata": {},
   "source": [
    "Create the agent `tools` and the `agent`."
   ]
  },
  {
   "cell_type": "code",
   "execution_count": null,
   "id": "6401fc77",
   "metadata": {},
   "outputs": [],
   "source": [
    "# Add the tools to the agent\n",
    "tools = [get_schema, retrieve_docs, query_database]\n",
    "\n",
    "agent = create_react_agent(\n",
    "    model, \n",
    "    tools\n",
    ")"
   ]
  },
  {
   "cell_type": "markdown",
   "id": "2a6cc086",
   "metadata": {},
   "source": [
    "Create a query, run the agent, and stream the results."
   ]
  },
  {
   "cell_type": "code",
   "execution_count": null,
   "id": "ce510fe4",
   "metadata": {},
   "outputs": [],
   "source": [
    "# Run the application\n",
    "query = \"What stock has Microsoft issued?\"\n",
    "\n",
    "for step in agent.stream(\n",
    "    {\n",
    "        \"messages\": [{\"role\": \"user\", \"content\": query}]\n",
    "    },\n",
    "    stream_mode=\"values\",\n",
    "):\n",
    "    step[\"messages\"][-1].pretty_print()"
   ]
  },
  {
   "cell_type": "markdown",
   "id": "c23a4817",
   "metadata": {},
   "source": [
    "Depending what question you ask the agent will use different tools to respond to the question.\n",
    "\n",
    "***\n",
    "\n",
    "Modify the question and observe how the agent changes tool, or even runs multiple tools, to gather the context it requires to answer the question.\n",
    "\n",
    "Try these examples:\n",
    "\n",
    "* What are the main risk factors mentioned in the documents?\n",
    "* How does the graph model relate to financial documents and risk factors?\n",
    "* What products does Microsoft mention in its financial documents?\n",
    "* Summarize Apple's risk factors and how they relate to other companies\n",
    "* How many risk facts does Apple face and what are the top ones?\n",
    "\n",
    "***\n",
    "\n",
    "[View the complete code](solutions/02_03_text2cypher_agent.py)"
   ]
  }
 ],
 "metadata": {
  "language_info": {
   "name": "python"
  }
 },
 "nbformat": 4,
 "nbformat_minor": 5
}
