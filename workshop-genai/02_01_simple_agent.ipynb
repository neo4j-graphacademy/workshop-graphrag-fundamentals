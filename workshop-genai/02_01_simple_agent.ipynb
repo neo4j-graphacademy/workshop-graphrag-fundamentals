{
 "cells": [
  {
   "cell_type": "markdown",
   "id": "976911b8",
   "metadata": {},
   "source": [
    "# Simple LangChain Agent\n",
    "\n",
    "The program is a simple LangChain agent that uses Neo4j.\n",
    "\n",
    "The code:\n",
    "\n",
    "- Creates an `OpenAI` LLM `model`\n",
    "- Connects to your Neo4j database\n",
    "- Defines a `Get-graph-database-schema` tool\n",
    "- Creates a `react` (Reasoning and Acting) agent using the `model` and `tools`\n",
    "- Streams the agent's response\n",
    "\n",
    "Review and run the code and answer the following questions: \n",
    "\n",
    "1. What is the agent's function? \n",
    "2. What can it do?\n",
    "3. How could you extend it?\n",
    "\n",
    "***"
   ]
  },
  {
   "cell_type": "markdown",
   "id": "b1be4eba",
   "metadata": {},
   "source": [
    "Load the environment variables and import the required Python modules."
   ]
  },
  {
   "cell_type": "code",
   "execution_count": null,
   "id": "c8c02f67",
   "metadata": {},
   "outputs": [],
   "source": [
    "import os\n",
    "from dotenv import load_dotenv\n",
    "load_dotenv()\n",
    "\n",
    "from langchain.chat_models import init_chat_model\n",
    "from langgraph.prebuilt import create_react_agent\n",
    "from langchain_core.tools import tool\n",
    "from langchain_neo4j import Neo4jGraph"
   ]
  },
  {
   "cell_type": "markdown",
   "id": "ce5fdb1c",
   "metadata": {},
   "source": [
    "Create a `gpt-4o` LLM `model` and connect to your Neo4j `graph` database."
   ]
  },
  {
   "cell_type": "code",
   "execution_count": null,
   "id": "11708244",
   "metadata": {},
   "outputs": [],
   "source": [
    "# Initialize the LLM\n",
    "model = init_chat_model(\"gpt-4o\", model_provider=\"openai\")\n",
    "\n",
    "# Connect to Neo4j\n",
    "graph = Neo4jGraph(\n",
    "    url=os.getenv(\"NEO4J_URI\"),\n",
    "    username=os.getenv(\"NEO4J_USERNAME\"), \n",
    "    password=os.getenv(\"NEO4J_PASSWORD\"),\n",
    ")"
   ]
  },
  {
   "cell_type": "markdown",
   "id": "8177635a",
   "metadata": {},
   "source": [
    "Create the `tools` your agent will use."
   ]
  },
  {
   "cell_type": "code",
   "execution_count": null,
   "id": "0c901d83",
   "metadata": {},
   "outputs": [],
   "source": [
    "# Define functions for each tool in the agent\n",
    "\n",
    "@tool(\"Get-graph-database-schema\")\n",
    "def get_schema():\n",
    "    \"\"\"Get the schema of the graph database.\"\"\"\n",
    "    context = graph.schema\n",
    "    return context\n",
    "\n",
    "# Define a list of tools for the agent\n",
    "tools = [get_schema]"
   ]
  },
  {
   "cell_type": "markdown",
   "id": "1ff6a424",
   "metadata": {},
   "source": [
    "> The agent will use the tool's name (`Get-graph-database-schema`), and docstring (`Get the schema of the graph database.`) to determine whether it should execute the tool to resolve a user's query.\n",
    "\n",
    "***"
   ]
  },
  {
   "cell_type": "markdown",
   "id": "8ef45917",
   "metadata": {},
   "source": [
    "Create the agent using the LLM `model` and `tools`."
   ]
  },
  {
   "cell_type": "code",
   "execution_count": null,
   "id": "cb38d117",
   "metadata": {},
   "outputs": [],
   "source": [
    "agent = create_react_agent(\n",
    "    model, \n",
    "    tools\n",
    ")"
   ]
  },
  {
   "cell_type": "markdown",
   "id": "151ece93",
   "metadata": {},
   "source": [
    "Create a query for the agent, pass it to the agent, and stream the messages created by the agent.\n",
    "\n",
    "When you run the agent, you will see:\n",
    "\n",
    "1. The messages between `Human`, `AI`, and `Tool`\n",
    "2. The context of the database schema\n",
    "3. The agent's final response"
   ]
  },
  {
   "cell_type": "code",
   "execution_count": null,
   "id": "cf4e99f4",
   "metadata": {},
   "outputs": [],
   "source": [
    "# Run the application\n",
    "query = \"Summarise the schema of the graph database.\"\n",
    "\n",
    "for step in agent.stream(\n",
    "    {\n",
    "        \"messages\": [{\"role\": \"user\", \"content\": query}]\n",
    "    },\n",
    "    stream_mode=\"values\",\n",
    "):\n",
    "    step[\"messages\"][-1].pretty_print()"
   ]
  },
  {
   "cell_type": "markdown",
   "id": "2dfd2fbd",
   "metadata": {},
   "source": [
    "Experiment with agent, modify the `query` to ask different questions, for example:\n",
    "\n",
    "* `\"How are Products related to other entities?\"`\n",
    "* `\"What questions can I answer using this graph database?\"`\n",
    "* `\"How does the graph model relate financial documents to risk factors?\"`\n",
    "\n",
    "***\n",
    "\n",
    "[View the complete code](solutions/02_01_simple_agent.py)"
   ]
  }
 ],
 "metadata": {
  "kernelspec": {
   "display_name": "ws-genai-env",
   "language": "python",
   "name": "python3"
  },
  "language_info": {
   "codemirror_mode": {
    "name": "ipython",
    "version": 3
   },
   "file_extension": ".py",
   "mimetype": "text/x-python",
   "name": "python",
   "nbconvert_exporter": "python",
   "pygments_lexer": "ipython3",
   "version": "3.12.0"
  }
 },
 "nbformat": 4,
 "nbformat_minor": 5
}
