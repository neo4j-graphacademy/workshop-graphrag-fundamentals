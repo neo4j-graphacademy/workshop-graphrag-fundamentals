{
 "cells": [
  {
   "cell_type": "markdown",
   "id": "caa5eb02",
   "metadata": {},
   "source": [
    "# Text to Cypher\n",
    "\n",
    "## Installation\n",
    "\n",
    "This notebook requires the following dependencies:"
   ]
  },
  {
   "cell_type": "code",
   "execution_count": null,
   "id": "f256ae7c",
   "metadata": {},
   "outputs": [],
   "source": [
    "%pip install neo4j-graphrag python-dotenv"
   ]
  },
  {
   "cell_type": "markdown",
   "id": "a2af3348",
   "metadata": {},
   "source": [
    "## Connecting to Neo4j\n",
    "\n",
    "The following cell creates an instance of the Neo4j Python Driver that the retrievers require to connect to the database.  The driver is created with environment variables set in your `.env` file.\n"
   ]
  },
  {
   "cell_type": "code",
   "execution_count": 41,
   "id": "45cb6f7e",
   "metadata": {},
   "outputs": [
    {
     "name": "stdout",
     "output_type": "stream",
     "text": [
      "The dotenv extension is already loaded. To reload it, use:\n",
      "  %reload_ext dotenv\n"
     ]
    }
   ],
   "source": [
    "%load_ext dotenv\n",
    "%dotenv\n",
    "\n",
    "from os import getenv\n",
    "\n",
    "NEO4J_URL = getenv(\"NEO4J_URI\") or \"neo4j://localhost:7687\"\n",
    "NEO4J_USERNAME = getenv(\"NEO4J_USERNAME\") or \"neo4j\"\n",
    "NEO4J_PASSWORD = getenv(\"NEO4J_PASSWORD\") or \"neoneoneo\"\n",
    "NEO4J_DATABASE = getenv(\"NEO4J_DATABASE\") or \"neo4j\"\n",
    "\n",
    "from neo4j import GraphDatabase\n",
    "\n",
    "driver = GraphDatabase.driver(\n",
    "    NEO4J_URL,\n",
    "    auth=(NEO4J_USERNAME, NEO4J_PASSWORD)\n",
    ")\n",
    "\n",
    "driver.verify_connectivity() # Throws an error if the connection is not successful\n"
   ]
  },
  {
   "cell_type": "markdown",
   "id": "94398e7a",
   "metadata": {},
   "source": [
    "## Text to Cypher\n",
    "\n",
    "Convert natural language queries into Cypher statements and execute them against the database to get the answer."
   ]
  },
  {
   "cell_type": "markdown",
   "id": "c0984dff",
   "metadata": {},
   "source": [
    "### Obtaining the database schema\n",
    "\n",
    "The Neo4j GraphRAG library provides two functions for retrieving the schema of an existing graph database."
   ]
  },
  {
   "cell_type": "code",
   "execution_count": null,
   "id": "d76093df",
   "metadata": {},
   "outputs": [],
   "source": [
    "from neo4j_graphrag.schema import get_schema\n",
    "\n",
    "schema = get_schema(driver, database=NEO4J_DATABASE)\n",
    "\n",
    "print(schema)"
   ]
  },
  {
   "cell_type": "markdown",
   "id": "b1fd54d5",
   "metadata": {},
   "source": [
    "### Creating a retriever\n",
    "\n",
    "The `Text2CypherRetriever` retriever will use this schema to generate a Cypher statement"
   ]
  },
  {
   "cell_type": "code",
   "execution_count": 43,
   "id": "aa285bef",
   "metadata": {},
   "outputs": [],
   "source": [
    "from neo4j_graphrag.llm import OpenAILLM\n",
    "from neo4j_graphrag.retrievers import Text2CypherRetriever\n",
    "\n",
    "llm = OpenAILLM(model_name=\"gpt-4o\", model_params={\"temperature\": 0})\n",
    "\n",
    "text2cypher_retriever = Text2CypherRetriever(\n",
    "    llm=llm,\n",
    "    driver=driver,\n",
    "    neo4j_database=NEO4J_DATABASE,\n",
    "    neo4j_schema=schema\n",
    ")\n",
    "\n",
    "result = text2cypher_retriever.search(\"What are the top risk factors that APPLE INC faces?\")"
   ]
  },
  {
   "cell_type": "code",
   "execution_count": null,
   "id": "433cada0",
   "metadata": {},
   "outputs": [],
   "source": [
    "for item in result.items:\n",
    "    print(item.content)\n"
   ]
  },
  {
   "cell_type": "markdown",
   "id": "23dec322",
   "metadata": {},
   "source": [
    "The `GraphRAG` class creates a retrieval pipeline that accepts a user input, uses a retriever to fetch the context, and uses an LLM to generate an answer."
   ]
  },
  {
   "cell_type": "code",
   "execution_count": null,
   "id": "b234759b",
   "metadata": {},
   "outputs": [],
   "source": [
    "from neo4j_graphrag.generation import GraphRAG\n",
    "\n",
    "# Instantiate the RAG pipeline\n",
    "rag = GraphRAG(\n",
    "    retriever=text2cypher_retriever,\n",
    "    llm=llm\n",
    ")\n",
    "\n",
    "# Query the graph\n",
    "query = \"What are the top risk factors that APPLE INC faces?\"\n",
    "\n",
    "text2cypher_response = rag.search(query_text=query, return_context=True)\n",
    "\n",
    "print(text2cypher_response.answer)\n"
   ]
  },
  {
   "cell_type": "code",
   "execution_count": null,
   "id": "fb310796",
   "metadata": {},
   "outputs": [],
   "source": [
    "print(text2cypher_response.retriever_result.metadata['cypher'])\n",
    "\n",
    "for item in text2cypher_response.retriever_result.items:\n",
    "    print(item.content)\n"
   ]
  },
  {
   "cell_type": "markdown",
   "id": "aea47be2",
   "metadata": {},
   "source": [
    "## Demo datasets\n",
    "\n",
    "Try running text-to-Cypher on a [demo dataset hosted on demo.neo4jlabs.com](https://demo.neo4jlabs.com/).  Use `neo4j+s://demo.neo4jlabs.com` as the connection URL and the dataset name as the username, password and database:\n",
    "\n",
    "* `recommendations`\n",
    "* `movies`\n",
    "* `northwind`\n",
    "* `fincen`\n",
    "* `twitter`\n",
    "* `stackoverflow`\n",
    "* `gameofthrones`\n",
    "* `gameofthrones`\n",
    "* `neoflix`\n",
    "* `wordnet`\n",
    "* `slack`\n",
    "\n"
   ]
  },
  {
   "cell_type": "code",
   "execution_count": 47,
   "id": "5d277103",
   "metadata": {},
   "outputs": [],
   "source": [
    "DEMO = 'northwind'\n",
    "\n",
    "got_driver = GraphDatabase.driver(\n",
    "    \"neo4j+s://demo.neo4jlabs.com\",\n",
    "    auth=(DEMO, DEMO)\n",
    ")\n",
    "\n",
    "got_driver.verify_connectivity()\n"
   ]
  },
  {
   "cell_type": "code",
   "execution_count": 48,
   "id": "dbaf8a0c",
   "metadata": {},
   "outputs": [],
   "source": [
    "got_text2cypher_retriever = Text2CypherRetriever(\n",
    "    llm=llm,\n",
    "    driver=got_driver,\n",
    "    neo4j_database=DEMO,\n",
    "    neo4j_schema=get_schema(got_driver, database=DEMO)\n",
    ")\n",
    "\n",
    "got_result = got_text2cypher_retriever.search(\"What are the top grossing products?\")"
   ]
  },
  {
   "cell_type": "code",
   "execution_count": null,
   "id": "e5e7c7a4",
   "metadata": {},
   "outputs": [],
   "source": [
    "print(got_result.metadata['cypher'])"
   ]
  },
  {
   "cell_type": "code",
   "execution_count": null,
   "id": "4e5cf292",
   "metadata": {},
   "outputs": [],
   "source": [
    "for item in got_result.items:\n",
    "    print(item.content)"
   ]
  },
  {
   "cell_type": "code",
   "execution_count": null,
   "id": "ddce52e4",
   "metadata": {},
   "outputs": [],
   "source": []
  }
 ],
 "metadata": {
  "kernelspec": {
   "display_name": ".venv",
   "language": "python",
   "name": "python3"
  },
  "language_info": {
   "codemirror_mode": {
    "name": "ipython",
    "version": 3
   },
   "file_extension": ".py",
   "mimetype": "text/x-python",
   "name": "python",
   "nbconvert_exporter": "python",
   "pygments_lexer": "ipython3",
   "version": "3.13.3"
  }
 },
 "nbformat": 4,
 "nbformat_minor": 5
}
