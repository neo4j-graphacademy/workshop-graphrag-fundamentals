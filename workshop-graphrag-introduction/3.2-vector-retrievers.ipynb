{
 "cells": [
  {
   "cell_type": "markdown",
   "id": "caa5eb02",
   "metadata": {},
   "source": [
    "# Vector & Relationships\n",
    "\n",
    "## Installation\n",
    "\n",
    "This notebook requires the following dependencies:"
   ]
  },
  {
   "cell_type": "code",
   "execution_count": null,
   "id": "f256ae7c",
   "metadata": {},
   "outputs": [],
   "source": [
    "%pip install neo4j-graphrag python-dotenv"
   ]
  },
  {
   "cell_type": "markdown",
   "id": "a2af3348",
   "metadata": {},
   "source": [
    "## Connecting to Neo4j\n",
    "\n",
    "The following cell creates an instance of the Neo4j Python Driver that the retrievers require to connect to the database.  The driver is created with environment variables set in your `.env` file.\n"
   ]
  },
  {
   "cell_type": "code",
   "execution_count": 1,
   "id": "45cb6f7e",
   "metadata": {},
   "outputs": [],
   "source": [
    "%load_ext dotenv\n",
    "%dotenv\n",
    "\n",
    "from os import getenv\n",
    "\n",
    "NEO4J_URL = getenv(\"NEO4J_URI\") or \"neo4j://localhost:7687\"\n",
    "NEO4J_USERNAME = getenv(\"NEO4J_USERNAME\") or \"neo4j\"\n",
    "NEO4J_PASSWORD = getenv(\"NEO4J_PASSWORD\") or \"neoneoneo\"\n",
    "NEO4J_DATABASE = getenv(\"NEO4J_DATABASE\") or \"neo4j\"\n",
    "\n",
    "from neo4j import GraphDatabase\n",
    "\n",
    "driver = GraphDatabase.driver(\n",
    "    NEO4J_URL,\n",
    "    auth=(NEO4J_USERNAME, NEO4J_PASSWORD)\n",
    ")\n",
    "\n",
    "driver.verify_connectivity() # Throws an error if the connection is not successful\n"
   ]
  },
  {
   "cell_type": "markdown",
   "id": "94398e7a",
   "metadata": {},
   "source": [
    "## Plain vector search\n",
    "\n",
    "A vector index already exists called `chunkEmbeddings`.  You can [create your own using the `create_vector_index` function](https://github.com/neo4j/neo4j-graphrag-python?tab=readme-ov-file#creating-a-vector-index) or [populate an existing index using the `upsert_vectors` function](https://github.com/neo4j/neo4j-graphrag-python?tab=readme-ov-file#populating-a-vector-index)."
   ]
  },
  {
   "cell_type": "code",
   "execution_count": 13,
   "id": "433cada0",
   "metadata": {},
   "outputs": [],
   "source": [
    "INDEX_NAME = \"chunkEmbeddings\"\n",
    "\n",
    "from neo4j_graphrag.embeddings import OpenAIEmbeddings\n",
    "from neo4j_graphrag.llm import OpenAILLM\n",
    "from neo4j_graphrag.retrievers import VectorRetriever\n",
    "\n",
    "# Create an Embedder object\n",
    "embedder = OpenAIEmbeddings()\n",
    "\n",
    "# Initialize the retriever\n",
    "retriever = VectorRetriever(\n",
    "    driver,\n",
    "    neo4j_database=NEO4J_DATABASE,\n",
    "    index_name=INDEX_NAME,\n",
    "    embedder=embedder\n",
    ")\n",
    "\n",
    "# Instantiate the LLM\n",
    "llm = OpenAILLM(model_name=\"gpt-4o\", model_params={\"temperature\": 0})"
   ]
  },
  {
   "cell_type": "markdown",
   "id": "23dec322",
   "metadata": {},
   "source": [
    "The `GraphRAG` class creates a retrieval pipeline that accepts a user input, uses a retriever to fetch the context, and uses an LLM to generate an answer."
   ]
  },
  {
   "cell_type": "code",
   "execution_count": null,
   "id": "b234759b",
   "metadata": {},
   "outputs": [],
   "source": [
    "from neo4j_graphrag.generation import GraphRAG\n",
    "\n",
    "# Instantiate the RAG pipeline\n",
    "rag = GraphRAG(\n",
    "    retriever=retriever,\n",
    "    llm=llm\n",
    ")\n",
    "\n",
    "# Query the graph\n",
    "query = \"What are the top risk factors that Apple faces?\"\n",
    "\n",
    "vector_response = rag.search(query_text=query, return_context=True, retriever_config={\"top_k\": 5})\n",
    "\n",
    "print(vector_response.answer)"
   ]
  },
  {
   "cell_type": "code",
   "execution_count": null,
   "id": "e08a9811",
   "metadata": {},
   "outputs": [],
   "source": [
    "from neo4j import Result\n",
    "\n",
    "driver.execute_query(\"MATCH (c:Company {name: 'APPLE INC'})-[:FACES_RISK]-(r:RiskFactor) RETURN r.name AS risk\", result_transformer_=Result.to_df)"
   ]
  },
  {
   "cell_type": "markdown",
   "id": "66ce079e",
   "metadata": {},
   "source": [
    "### Why \"Apple\" Queries Can Fail in Vector-Cypher Retrieval\n",
    "\n",
    "When you ask a question like \"What are the risks that Apple faces?\" using a vector-Cypher retriever, you may not get the structured or complete answer you expect. Here’s why:\n",
    "\n",
    "- **How Vector-Cypher Works:**  \n",
    "  - The retrieval process first performs a semantic search over all text chunks in the graph.\n",
    "  - It retrieves the `top_k` chunks most similar to your query—regardless of which company (or entity) they are about.\n",
    "  - The Cypher query then starts from each chunk and traverses the graph for related information.\n",
    "\n",
    "- **The Problem with Entity-Centric Queries:**  \n",
    "  - If your query is about \"Apple,\" but there are no chunks whose text is semantically similar to your query and also specifically about Apple, the retriever may return:\n",
    "    - Chunks about other companies.\n",
    "    - Chunks that mention \"risk\" but not \"Apple.\"\n",
    "    - Generic or boilerplate risk factor text.\n",
    "  - The Cypher query can only traverse from the retrieved chunk—it cannot \"filter\" or \"redirect\" to Apple if the chunk isn’t already about Apple.\n",
    "\n",
    "- **Key Limitation:**  \n",
    "  - **The chunk is the anchor.** If your query is about an entity (like Apple), but the chunk retrieval is not entity-aware, you may never reach the correct node or context in the graph.\n",
    "  - This is especially problematic for broad or entity-centric questions, where you want to aggregate or summarize information about a specific node (e.g., a company) rather than just retrieve semantically similar passages.\n",
    "\n",
    "Vector-Cypher retrieval is powerful for finding relevant context, but it is fundamentally limited by the chunk-centric approach. For entity-centric questions, you need either:\n",
    "\n",
    "- Chunks that are explicitly about the entity, or\n",
    "- A retrieval/query strategy that starts from the entity node itself, not from arbitrary text chunks.\n",
    "\n",
    "## VectorCypherRetriever Example: Detailed Search with Context\n",
    "\n",
    "You can use `VectorCypherRetriever` to answer nuanced, relationship-driven questions by combining semantic search with graph traversal.\n",
    "\n",
    "This example uses the graph to find specific information about asset managers."
   ]
  },
  {
   "cell_type": "markdown",
   "id": "aea47be2",
   "metadata": {},
   "source": [
    "### Adding context via relationships\n",
    "\n",
    "The above pipeline will produce a generic, non-deterministic answer.  Adding relationships to the query will provide a deterministic answer based on the contents of the knowledge graph.  We do this with the `VectorCypherRetriever` class."
   ]
  },
  {
   "cell_type": "code",
   "execution_count": null,
   "id": "5d277103",
   "metadata": {},
   "outputs": [],
   "source": [
    "from neo4j_graphrag.retrievers import VectorCypherRetriever\n",
    "from textwrap import wrap\n",
    "\n",
    "query = \"Who are the asset managers most affected by banking regulations?\"\n",
    "\n",
    "asset_manager_query = \"\"\"\n",
    "MATCH (node)-[:FROM_DOCUMENT]-(doc:Document)-[:FILED]-(company:Company)-[:OWNS]-(manager:AssetManager)\n",
    "RETURN company.name AS company, manager.managerName AS AssetManagerWithSharesInCompany, node.text AS context\n",
    "\"\"\"\n",
    "\n",
    "vector_cypher_retriever = VectorCypherRetriever(\n",
    "    driver=driver,\n",
    "    index_name='chunkEmbeddings',\n",
    "    embedder=embedder,\n",
    "    retrieval_query=asset_manager_query\n",
    ")\n",
    "\n",
    "rag = GraphRAG(llm=llm, retriever=vector_cypher_retriever)\n",
    "response = rag.search(\n",
    "    query,\n",
    "    retriever_config={\"top_k\": 5},\n",
    "    return_context=True\n",
    ")\n",
    "\n",
    "wrap(response.answer)\n"
   ]
  },
  {
   "cell_type": "code",
   "execution_count": null,
   "id": "dbaf8a0c",
   "metadata": {},
   "outputs": [],
   "source": [
    "# View the context used in this query\n",
    "print(\"Context:\", *response.retriever_result.items, sep=\"\\n\\n\")"
   ]
  },
  {
   "cell_type": "markdown",
   "id": "b94d6e14",
   "metadata": {},
   "source": [
    "**How this works:**\n",
    "\n",
    "- **Semantic Search:**  \n",
    "  The vector retriever finds the top-k text chunks most relevant to your query (\"What risks connect major tech companies?\").\n",
    "\n",
    "- **Graph Traversal:**  \n",
    "  For each retrieved chunk (`node`):\n",
    "  - Follows the `:FROM_DOCUMENT` and `:FILED` relationships to a company (`c1`).\n",
    "  - Finds all risk factors (`risk`) that `c1` faces.\n",
    "  - Finds other companies (`c2`) that also face the same risk factor.\n",
    "  - Ensures that `c1` and `c2` are different companies.\n",
    "\n",
    "<!-- ![image.png](attachment:image.png) -->\n",
    "\n",
    "- **Returns:**  \n",
    "  - `source_company`: The company from the retrieved chunk.\n",
    "  - `related_companies`: Companies sharing at least one risk with the source company.\n",
    "  - `shared_risks`: The names of the risk factors connecting these companies.\n",
    "\n",
    "- **Why this is powerful:**  \n",
    "  - Leverages the chunk as the semantic anchor, but then uses graph logic to discover structured, multi-entity relationships.\n",
    "  - Surfaces both the context (from the chunk) and the broader network of shared risks—something that pure semantic or pure graph search alone would struggle to do as effectively.\n",
    "\n",
    "This approach is ideal for exploratory questions about relationships in your graph, where you want to start from relevant context but end up with structured, comparative insights.\n"
   ]
  },
  {
   "cell_type": "markdown",
   "id": "aa6ada4c",
   "metadata": {},
   "source": []
  }
 ],
 "metadata": {
  "kernelspec": {
   "display_name": ".venv",
   "language": "python",
   "name": "python3"
  },
  "language_info": {
   "codemirror_mode": {
    "name": "ipython",
    "version": 3
   },
   "file_extension": ".py",
   "mimetype": "text/x-python",
   "name": "python",
   "nbconvert_exporter": "python",
   "pygments_lexer": "ipython3",
   "version": "3.13.3"
  }
 },
 "nbformat": 4,
 "nbformat_minor": 5
}
